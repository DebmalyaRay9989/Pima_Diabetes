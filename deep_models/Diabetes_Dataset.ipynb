{
 "cells": [
  {
   "cell_type": "markdown",
   "id": "83e0bde1-ca38-40fa-91f7-ae59ab7b2e63",
   "metadata": {},
   "source": [
    "### <b> <u> Pima Indians Diabetes Database </u> <b>"
   ]
  },
  {
   "cell_type": "markdown",
   "id": "a8e22258-5419-43ef-acf6-2909a4b063ff",
   "metadata": {},
   "source": [
    "<u> Context </u> <br>\n",
    "This dataset is originally from the National Institute of Diabetes and Digestive and Kidney Diseases. The objective of the dataset is to diagnostically predict whether or not a patient has diabetes, based on certain diagnostic measurements included in the dataset. Several constraints were placed on the selection of these instances from a larger database. In particular, all patients here are females at least 21 years old of Pima Indian heritage."
   ]
  },
  {
   "cell_type": "markdown",
   "id": "0e6a151c-f020-4af0-96d2-69c595d47635",
   "metadata": {},
   "source": [
    "<b> <u> Content </u> </b> <br>\n",
    "The datasets consists of several medical predictor variables and one target variable, Outcome. Predictor variables includes the number of pregnancies the patient has had, their BMI, insulin level, age, and so on."
   ]
  },
  {
   "cell_type": "markdown",
   "id": "0a4ec5bf-cf6b-4c1d-9108-509b8a1097bd",
   "metadata": {},
   "source": [
    "### Pipelines In SkLearn"
   ]
  },
  {
   "cell_type": "code",
   "execution_count": 1,
   "id": "93f272a4-a49b-4a8f-8550-48f14f396add",
   "metadata": {},
   "outputs": [],
   "source": [
    "from sklearn.datasets import load_iris\n",
    "from sklearn.model_selection import train_test_split\n",
    "from sklearn.preprocessing import StandardScaler\n",
    "from sklearn.decomposition import PCA\n",
    "from sklearn.pipeline import Pipeline\n",
    "from sklearn.linear_model import LogisticRegression\n",
    "from sklearn.tree import DecisionTreeClassifier\n",
    "from sklearn.ensemble import RandomForestClassifier\n",
    "from xgboost import XGBClassifier"
   ]
  },
  {
   "cell_type": "code",
   "execution_count": 2,
   "id": "c07c7d82-0ed4-4116-9925-50cb90008d23",
   "metadata": {},
   "outputs": [],
   "source": [
    "# Suppressing Warnings\n",
    "import warnings\n",
    "warnings.filterwarnings('ignore')"
   ]
  },
  {
   "cell_type": "code",
   "execution_count": 3,
   "id": "32acf66a-3edb-4ae9-bd9d-4feaf9fcc983",
   "metadata": {},
   "outputs": [],
   "source": [
    "# Importing Pandas and NumPy\n",
    "import pandas as pd, numpy as np"
   ]
  },
  {
   "cell_type": "code",
   "execution_count": 4,
   "id": "7444c6d2-b87e-4861-a7b2-017f59885bd6",
   "metadata": {},
   "outputs": [
    {
     "data": {
      "text/html": [
       "<div>\n",
       "<style scoped>\n",
       "    .dataframe tbody tr th:only-of-type {\n",
       "        vertical-align: middle;\n",
       "    }\n",
       "\n",
       "    .dataframe tbody tr th {\n",
       "        vertical-align: top;\n",
       "    }\n",
       "\n",
       "    .dataframe thead th {\n",
       "        text-align: right;\n",
       "    }\n",
       "</style>\n",
       "<table border=\"1\" class=\"dataframe\">\n",
       "  <thead>\n",
       "    <tr style=\"text-align: right;\">\n",
       "      <th></th>\n",
       "      <th>Pregnancies</th>\n",
       "      <th>Glucose</th>\n",
       "      <th>BloodPressure</th>\n",
       "      <th>SkinThickness</th>\n",
       "      <th>Insulin</th>\n",
       "      <th>BMI</th>\n",
       "      <th>DiabetesPedigreeFunction</th>\n",
       "      <th>Age</th>\n",
       "      <th>Outcome</th>\n",
       "    </tr>\n",
       "  </thead>\n",
       "  <tbody>\n",
       "    <tr>\n",
       "      <th>0</th>\n",
       "      <td>6</td>\n",
       "      <td>148</td>\n",
       "      <td>72</td>\n",
       "      <td>35</td>\n",
       "      <td>0</td>\n",
       "      <td>33.6</td>\n",
       "      <td>0.627</td>\n",
       "      <td>50</td>\n",
       "      <td>1</td>\n",
       "    </tr>\n",
       "    <tr>\n",
       "      <th>1</th>\n",
       "      <td>1</td>\n",
       "      <td>85</td>\n",
       "      <td>66</td>\n",
       "      <td>29</td>\n",
       "      <td>0</td>\n",
       "      <td>26.6</td>\n",
       "      <td>0.351</td>\n",
       "      <td>31</td>\n",
       "      <td>0</td>\n",
       "    </tr>\n",
       "    <tr>\n",
       "      <th>2</th>\n",
       "      <td>8</td>\n",
       "      <td>183</td>\n",
       "      <td>64</td>\n",
       "      <td>0</td>\n",
       "      <td>0</td>\n",
       "      <td>23.3</td>\n",
       "      <td>0.672</td>\n",
       "      <td>32</td>\n",
       "      <td>1</td>\n",
       "    </tr>\n",
       "    <tr>\n",
       "      <th>3</th>\n",
       "      <td>1</td>\n",
       "      <td>89</td>\n",
       "      <td>66</td>\n",
       "      <td>23</td>\n",
       "      <td>94</td>\n",
       "      <td>28.1</td>\n",
       "      <td>0.167</td>\n",
       "      <td>21</td>\n",
       "      <td>0</td>\n",
       "    </tr>\n",
       "  </tbody>\n",
       "</table>\n",
       "</div>"
      ],
      "text/plain": [
       "   Pregnancies  Glucose  BloodPressure  SkinThickness  Insulin   BMI  \\\n",
       "0            6      148             72             35        0  33.6   \n",
       "1            1       85             66             29        0  26.6   \n",
       "2            8      183             64              0        0  23.3   \n",
       "3            1       89             66             23       94  28.1   \n",
       "\n",
       "   DiabetesPedigreeFunction  Age  Outcome  \n",
       "0                     0.627   50        1  \n",
       "1                     0.351   31        0  \n",
       "2                     0.672   32        1  \n",
       "3                     0.167   21        0  "
      ]
     },
     "execution_count": 4,
     "metadata": {},
     "output_type": "execute_result"
    }
   ],
   "source": [
    "# Importing all datasets\n",
    "diabetes = pd.read_csv(\"C:/Users/HP/Desktop/Upgrad Case Study/Pima_Diabetes/diabetes.csv\")\n",
    "diabetes.head(4)"
   ]
  },
  {
   "cell_type": "code",
   "execution_count": 5,
   "id": "4b8c2f6e-746a-4d69-b746-c8ca55a45ece",
   "metadata": {},
   "outputs": [
    {
     "data": {
      "text/plain": [
       "Pregnancies                   int64\n",
       "Glucose                       int64\n",
       "BloodPressure                 int64\n",
       "SkinThickness                 int64\n",
       "Insulin                       int64\n",
       "BMI                         float64\n",
       "DiabetesPedigreeFunction    float64\n",
       "Age                           int64\n",
       "Outcome                       int64\n",
       "dtype: object"
      ]
     },
     "execution_count": 5,
     "metadata": {},
     "output_type": "execute_result"
    }
   ],
   "source": [
    "diabetes.dtypes"
   ]
  },
  {
   "cell_type": "code",
   "execution_count": 6,
   "id": "b52d31ac-1f05-4ea0-b5c2-dd282b75c7e7",
   "metadata": {},
   "outputs": [
    {
     "data": {
      "text/plain": [
       "(768, 9)"
      ]
     },
     "execution_count": 6,
     "metadata": {},
     "output_type": "execute_result"
    }
   ],
   "source": [
    "diabetes.shape"
   ]
  },
  {
   "cell_type": "code",
   "execution_count": 7,
   "id": "79c39859-d60a-424f-a7d2-051eaa8d5c66",
   "metadata": {},
   "outputs": [
    {
     "name": "stdout",
     "output_type": "stream",
     "text": [
      "<class 'pandas.core.frame.DataFrame'>\n",
      "RangeIndex: 768 entries, 0 to 767\n",
      "Data columns (total 9 columns):\n",
      " #   Column                    Non-Null Count  Dtype  \n",
      "---  ------                    --------------  -----  \n",
      " 0   Pregnancies               768 non-null    int64  \n",
      " 1   Glucose                   768 non-null    int64  \n",
      " 2   BloodPressure             768 non-null    int64  \n",
      " 3   SkinThickness             768 non-null    int64  \n",
      " 4   Insulin                   768 non-null    int64  \n",
      " 5   BMI                       768 non-null    float64\n",
      " 6   DiabetesPedigreeFunction  768 non-null    float64\n",
      " 7   Age                       768 non-null    int64  \n",
      " 8   Outcome                   768 non-null    int64  \n",
      "dtypes: float64(2), int64(7)\n",
      "memory usage: 54.1 KB\n"
     ]
    }
   ],
   "source": [
    "diabetes.info()"
   ]
  },
  {
   "cell_type": "code",
   "execution_count": 8,
   "id": "463e4360-96ee-4e38-880f-480a36415341",
   "metadata": {},
   "outputs": [
    {
     "data": {
      "text/plain": [
       "Index(['Pregnancies', 'Glucose', 'BloodPressure', 'SkinThickness', 'Insulin',\n",
       "       'BMI', 'DiabetesPedigreeFunction', 'Age', 'Outcome'],\n",
       "      dtype='object')"
      ]
     },
     "execution_count": 8,
     "metadata": {},
     "output_type": "execute_result"
    }
   ],
   "source": [
    "diabetes.columns"
   ]
  },
  {
   "cell_type": "markdown",
   "id": "aa2e5342-de9c-4bef-a538-786694593b26",
   "metadata": {},
   "source": [
    "### Rescaling the Features"
   ]
  },
  {
   "cell_type": "markdown",
   "id": "33090300-9612-4a2c-94f5-965adc451916",
   "metadata": {},
   "source": [
    "We will use MinMax scaling."
   ]
  },
  {
   "cell_type": "code",
   "execution_count": 9,
   "id": "9c411073-3f10-480b-9b85-04df4514a242",
   "metadata": {},
   "outputs": [],
   "source": [
    "from sklearn.preprocessing import MinMaxScaler\n",
    "scaler = MinMaxScaler()"
   ]
  },
  {
   "cell_type": "code",
   "execution_count": 10,
   "id": "59e2aa15-fa5f-47da-8a73-c70d9e1099af",
   "metadata": {},
   "outputs": [
    {
     "data": {
      "text/html": [
       "<div>\n",
       "<style scoped>\n",
       "    .dataframe tbody tr th:only-of-type {\n",
       "        vertical-align: middle;\n",
       "    }\n",
       "\n",
       "    .dataframe tbody tr th {\n",
       "        vertical-align: top;\n",
       "    }\n",
       "\n",
       "    .dataframe thead th {\n",
       "        text-align: right;\n",
       "    }\n",
       "</style>\n",
       "<table border=\"1\" class=\"dataframe\">\n",
       "  <thead>\n",
       "    <tr style=\"text-align: right;\">\n",
       "      <th></th>\n",
       "      <th>Pregnancies</th>\n",
       "      <th>Glucose</th>\n",
       "      <th>BloodPressure</th>\n",
       "      <th>SkinThickness</th>\n",
       "      <th>Insulin</th>\n",
       "      <th>BMI</th>\n",
       "      <th>DiabetesPedigreeFunction</th>\n",
       "      <th>Age</th>\n",
       "      <th>Outcome</th>\n",
       "    </tr>\n",
       "  </thead>\n",
       "  <tbody>\n",
       "    <tr>\n",
       "      <th>0</th>\n",
       "      <td>0.352941</td>\n",
       "      <td>0.743719</td>\n",
       "      <td>0.590164</td>\n",
       "      <td>0.353535</td>\n",
       "      <td>0.000000</td>\n",
       "      <td>0.500745</td>\n",
       "      <td>0.234415</td>\n",
       "      <td>0.483333</td>\n",
       "      <td>1.0</td>\n",
       "    </tr>\n",
       "    <tr>\n",
       "      <th>1</th>\n",
       "      <td>0.058824</td>\n",
       "      <td>0.427136</td>\n",
       "      <td>0.540984</td>\n",
       "      <td>0.292929</td>\n",
       "      <td>0.000000</td>\n",
       "      <td>0.396423</td>\n",
       "      <td>0.116567</td>\n",
       "      <td>0.166667</td>\n",
       "      <td>0.0</td>\n",
       "    </tr>\n",
       "    <tr>\n",
       "      <th>2</th>\n",
       "      <td>0.470588</td>\n",
       "      <td>0.919598</td>\n",
       "      <td>0.524590</td>\n",
       "      <td>0.000000</td>\n",
       "      <td>0.000000</td>\n",
       "      <td>0.347243</td>\n",
       "      <td>0.253629</td>\n",
       "      <td>0.183333</td>\n",
       "      <td>1.0</td>\n",
       "    </tr>\n",
       "    <tr>\n",
       "      <th>3</th>\n",
       "      <td>0.058824</td>\n",
       "      <td>0.447236</td>\n",
       "      <td>0.540984</td>\n",
       "      <td>0.232323</td>\n",
       "      <td>0.111111</td>\n",
       "      <td>0.418778</td>\n",
       "      <td>0.038002</td>\n",
       "      <td>0.000000</td>\n",
       "      <td>0.0</td>\n",
       "    </tr>\n",
       "    <tr>\n",
       "      <th>4</th>\n",
       "      <td>0.000000</td>\n",
       "      <td>0.688442</td>\n",
       "      <td>0.327869</td>\n",
       "      <td>0.353535</td>\n",
       "      <td>0.198582</td>\n",
       "      <td>0.642325</td>\n",
       "      <td>0.943638</td>\n",
       "      <td>0.200000</td>\n",
       "      <td>1.0</td>\n",
       "    </tr>\n",
       "  </tbody>\n",
       "</table>\n",
       "</div>"
      ],
      "text/plain": [
       "   Pregnancies   Glucose  BloodPressure  SkinThickness   Insulin       BMI  \\\n",
       "0     0.352941  0.743719       0.590164       0.353535  0.000000  0.500745   \n",
       "1     0.058824  0.427136       0.540984       0.292929  0.000000  0.396423   \n",
       "2     0.470588  0.919598       0.524590       0.000000  0.000000  0.347243   \n",
       "3     0.058824  0.447236       0.540984       0.232323  0.111111  0.418778   \n",
       "4     0.000000  0.688442       0.327869       0.353535  0.198582  0.642325   \n",
       "\n",
       "   DiabetesPedigreeFunction       Age  Outcome  \n",
       "0                  0.234415  0.483333      1.0  \n",
       "1                  0.116567  0.166667      0.0  \n",
       "2                  0.253629  0.183333      1.0  \n",
       "3                  0.038002  0.000000      0.0  \n",
       "4                  0.943638  0.200000      1.0  "
      ]
     },
     "execution_count": 10,
     "metadata": {},
     "output_type": "execute_result"
    }
   ],
   "source": [
    "# Apply scaler() to all the columns except the 'yes-no' and 'dummy' variables\n",
    "num_vars = [\"Pregnancies\", \"Glucose\", \"BloodPressure\", \"SkinThickness\", \"Insulin\", \"BMI\", \"DiabetesPedigreeFunction\", \"Age\", \"Outcome\"]\n",
    "\n",
    "diabetes[num_vars] = scaler.fit_transform(diabetes[num_vars])\n",
    "\n",
    "diabetes.head()"
   ]
  },
  {
   "cell_type": "markdown",
   "id": "a18b31bd-fc11-4e53-b66a-ab663c8b3a4e",
   "metadata": {},
   "source": [
    "### Checking For `Any Null Values`"
   ]
  },
  {
   "cell_type": "code",
   "execution_count": 11,
   "id": "bbfa736f-d264-47b6-b922-ab3df35e44ee",
   "metadata": {},
   "outputs": [
    {
     "data": {
      "text/plain": [
       "Pregnancies                 0\n",
       "Glucose                     0\n",
       "BloodPressure               0\n",
       "SkinThickness               0\n",
       "Insulin                     0\n",
       "BMI                         0\n",
       "DiabetesPedigreeFunction    0\n",
       "Age                         0\n",
       "Outcome                     0\n",
       "dtype: int64"
      ]
     },
     "execution_count": 11,
     "metadata": {},
     "output_type": "execute_result"
    }
   ],
   "source": [
    "diabetes.isnull().sum()"
   ]
  },
  {
   "cell_type": "code",
   "execution_count": 12,
   "id": "00216b07-6b24-4abf-ae66-b5fe9f6fa502",
   "metadata": {},
   "outputs": [
    {
     "data": {
      "text/plain": [
       "Index(['Pregnancies', 'Glucose', 'BloodPressure', 'SkinThickness', 'Insulin',\n",
       "       'BMI', 'DiabetesPedigreeFunction', 'Age', 'Outcome'],\n",
       "      dtype='object')"
      ]
     },
     "execution_count": 12,
     "metadata": {},
     "output_type": "execute_result"
    }
   ],
   "source": [
    "diabetes.columns"
   ]
  },
  {
   "cell_type": "markdown",
   "id": "24135650-7afa-4111-bcba-162e8af78ea1",
   "metadata": {},
   "source": [
    "## Checking for Outliers"
   ]
  },
  {
   "cell_type": "code",
   "execution_count": 13,
   "id": "bb44c4a2-f6b7-48cf-9ae8-4669d7a16600",
   "metadata": {},
   "outputs": [],
   "source": [
    "# Checking for outliers in the continuous variables\n",
    "num_diabetes = diabetes[['Pregnancies', 'Glucose', 'BloodPressure', 'SkinThickness', 'Insulin',\n",
    "       'BMI', 'DiabetesPedigreeFunction', 'Age', 'Outcome']]"
   ]
  },
  {
   "cell_type": "code",
   "execution_count": 14,
   "id": "44914604-9159-4f00-9db5-833ffd8dd75d",
   "metadata": {},
   "outputs": [
    {
     "data": {
      "text/html": [
       "<div>\n",
       "<style scoped>\n",
       "    .dataframe tbody tr th:only-of-type {\n",
       "        vertical-align: middle;\n",
       "    }\n",
       "\n",
       "    .dataframe tbody tr th {\n",
       "        vertical-align: top;\n",
       "    }\n",
       "\n",
       "    .dataframe thead th {\n",
       "        text-align: right;\n",
       "    }\n",
       "</style>\n",
       "<table border=\"1\" class=\"dataframe\">\n",
       "  <thead>\n",
       "    <tr style=\"text-align: right;\">\n",
       "      <th></th>\n",
       "      <th>Pregnancies</th>\n",
       "      <th>Glucose</th>\n",
       "      <th>BloodPressure</th>\n",
       "      <th>SkinThickness</th>\n",
       "      <th>Insulin</th>\n",
       "      <th>BMI</th>\n",
       "      <th>DiabetesPedigreeFunction</th>\n",
       "      <th>Age</th>\n",
       "      <th>Outcome</th>\n",
       "    </tr>\n",
       "  </thead>\n",
       "  <tbody>\n",
       "    <tr>\n",
       "      <th>count</th>\n",
       "      <td>768.000000</td>\n",
       "      <td>768.000000</td>\n",
       "      <td>768.000000</td>\n",
       "      <td>768.000000</td>\n",
       "      <td>768.000000</td>\n",
       "      <td>768.000000</td>\n",
       "      <td>768.000000</td>\n",
       "      <td>768.000000</td>\n",
       "      <td>768.000000</td>\n",
       "    </tr>\n",
       "    <tr>\n",
       "      <th>mean</th>\n",
       "      <td>0.226180</td>\n",
       "      <td>0.607510</td>\n",
       "      <td>0.566438</td>\n",
       "      <td>0.207439</td>\n",
       "      <td>0.094326</td>\n",
       "      <td>0.476790</td>\n",
       "      <td>0.168179</td>\n",
       "      <td>0.204015</td>\n",
       "      <td>0.348958</td>\n",
       "    </tr>\n",
       "    <tr>\n",
       "      <th>std</th>\n",
       "      <td>0.198210</td>\n",
       "      <td>0.160666</td>\n",
       "      <td>0.158654</td>\n",
       "      <td>0.161134</td>\n",
       "      <td>0.136222</td>\n",
       "      <td>0.117499</td>\n",
       "      <td>0.141473</td>\n",
       "      <td>0.196004</td>\n",
       "      <td>0.476951</td>\n",
       "    </tr>\n",
       "    <tr>\n",
       "      <th>min</th>\n",
       "      <td>0.000000</td>\n",
       "      <td>0.000000</td>\n",
       "      <td>0.000000</td>\n",
       "      <td>0.000000</td>\n",
       "      <td>0.000000</td>\n",
       "      <td>0.000000</td>\n",
       "      <td>0.000000</td>\n",
       "      <td>0.000000</td>\n",
       "      <td>0.000000</td>\n",
       "    </tr>\n",
       "    <tr>\n",
       "      <th>25%</th>\n",
       "      <td>0.058824</td>\n",
       "      <td>0.497487</td>\n",
       "      <td>0.508197</td>\n",
       "      <td>0.000000</td>\n",
       "      <td>0.000000</td>\n",
       "      <td>0.406855</td>\n",
       "      <td>0.070773</td>\n",
       "      <td>0.050000</td>\n",
       "      <td>0.000000</td>\n",
       "    </tr>\n",
       "    <tr>\n",
       "      <th>50%</th>\n",
       "      <td>0.176471</td>\n",
       "      <td>0.587940</td>\n",
       "      <td>0.590164</td>\n",
       "      <td>0.232323</td>\n",
       "      <td>0.036052</td>\n",
       "      <td>0.476900</td>\n",
       "      <td>0.125747</td>\n",
       "      <td>0.133333</td>\n",
       "      <td>0.000000</td>\n",
       "    </tr>\n",
       "    <tr>\n",
       "      <th>75%</th>\n",
       "      <td>0.352941</td>\n",
       "      <td>0.704774</td>\n",
       "      <td>0.655738</td>\n",
       "      <td>0.323232</td>\n",
       "      <td>0.150414</td>\n",
       "      <td>0.545455</td>\n",
       "      <td>0.234095</td>\n",
       "      <td>0.333333</td>\n",
       "      <td>1.000000</td>\n",
       "    </tr>\n",
       "    <tr>\n",
       "      <th>90%</th>\n",
       "      <td>0.529412</td>\n",
       "      <td>0.839196</td>\n",
       "      <td>0.721311</td>\n",
       "      <td>0.404040</td>\n",
       "      <td>0.248227</td>\n",
       "      <td>0.618480</td>\n",
       "      <td>0.341845</td>\n",
       "      <td>0.500000</td>\n",
       "      <td>1.000000</td>\n",
       "    </tr>\n",
       "    <tr>\n",
       "      <th>95%</th>\n",
       "      <td>0.588235</td>\n",
       "      <td>0.909548</td>\n",
       "      <td>0.737705</td>\n",
       "      <td>0.444444</td>\n",
       "      <td>0.346336</td>\n",
       "      <td>0.661624</td>\n",
       "      <td>0.450406</td>\n",
       "      <td>0.616667</td>\n",
       "      <td>1.000000</td>\n",
       "    </tr>\n",
       "    <tr>\n",
       "      <th>99%</th>\n",
       "      <td>0.764706</td>\n",
       "      <td>0.984925</td>\n",
       "      <td>0.868852</td>\n",
       "      <td>0.518485</td>\n",
       "      <td>0.614539</td>\n",
       "      <td>0.756468</td>\n",
       "      <td>0.691857</td>\n",
       "      <td>0.766667</td>\n",
       "      <td>1.000000</td>\n",
       "    </tr>\n",
       "    <tr>\n",
       "      <th>max</th>\n",
       "      <td>1.000000</td>\n",
       "      <td>1.000000</td>\n",
       "      <td>1.000000</td>\n",
       "      <td>1.000000</td>\n",
       "      <td>1.000000</td>\n",
       "      <td>1.000000</td>\n",
       "      <td>1.000000</td>\n",
       "      <td>1.000000</td>\n",
       "      <td>1.000000</td>\n",
       "    </tr>\n",
       "  </tbody>\n",
       "</table>\n",
       "</div>"
      ],
      "text/plain": [
       "       Pregnancies     Glucose  BloodPressure  SkinThickness     Insulin  \\\n",
       "count   768.000000  768.000000     768.000000     768.000000  768.000000   \n",
       "mean      0.226180    0.607510       0.566438       0.207439    0.094326   \n",
       "std       0.198210    0.160666       0.158654       0.161134    0.136222   \n",
       "min       0.000000    0.000000       0.000000       0.000000    0.000000   \n",
       "25%       0.058824    0.497487       0.508197       0.000000    0.000000   \n",
       "50%       0.176471    0.587940       0.590164       0.232323    0.036052   \n",
       "75%       0.352941    0.704774       0.655738       0.323232    0.150414   \n",
       "90%       0.529412    0.839196       0.721311       0.404040    0.248227   \n",
       "95%       0.588235    0.909548       0.737705       0.444444    0.346336   \n",
       "99%       0.764706    0.984925       0.868852       0.518485    0.614539   \n",
       "max       1.000000    1.000000       1.000000       1.000000    1.000000   \n",
       "\n",
       "              BMI  DiabetesPedigreeFunction         Age     Outcome  \n",
       "count  768.000000                768.000000  768.000000  768.000000  \n",
       "mean     0.476790                  0.168179    0.204015    0.348958  \n",
       "std      0.117499                  0.141473    0.196004    0.476951  \n",
       "min      0.000000                  0.000000    0.000000    0.000000  \n",
       "25%      0.406855                  0.070773    0.050000    0.000000  \n",
       "50%      0.476900                  0.125747    0.133333    0.000000  \n",
       "75%      0.545455                  0.234095    0.333333    1.000000  \n",
       "90%      0.618480                  0.341845    0.500000    1.000000  \n",
       "95%      0.661624                  0.450406    0.616667    1.000000  \n",
       "99%      0.756468                  0.691857    0.766667    1.000000  \n",
       "max      1.000000                  1.000000    1.000000    1.000000  "
      ]
     },
     "execution_count": 14,
     "metadata": {},
     "output_type": "execute_result"
    }
   ],
   "source": [
    "# Checking outliers at 25%, 50%, 75%, 90%, 95% and 99%\n",
    "num_diabetes.describe(percentiles=[.25, .5, .75, .90, .95, .99])"
   ]
  },
  {
   "cell_type": "code",
   "execution_count": 15,
   "id": "918fc835-6d3f-4b21-b973-eac7b183a6fd",
   "metadata": {},
   "outputs": [
    {
     "name": "stdout",
     "output_type": "stream",
     "text": [
      "Pregnancies                 0.294118\n",
      "Glucose                     0.207286\n",
      "BloodPressure               0.147541\n",
      "SkinThickness               0.323232\n",
      "Insulin                     0.150414\n",
      "BMI                         0.138599\n",
      "DiabetesPedigreeFunction    0.163322\n",
      "Age                         0.283333\n",
      "Outcome                     1.000000\n",
      "dtype: float64\n"
     ]
    }
   ],
   "source": [
    "Q1 = diabetes.quantile(0.25)\n",
    "Q3 = diabetes.quantile(0.75)\n",
    "IQR = Q3 - Q1\n",
    "print(IQR)"
   ]
  },
  {
   "cell_type": "markdown",
   "id": "d96ec79c-9f30-47b8-b50a-2ea2826df821",
   "metadata": {},
   "source": [
    "### Quantile-based Flooring and Capping"
   ]
  },
  {
   "cell_type": "code",
   "execution_count": 16,
   "id": "b6cbfff1-3e19-46a4-a702-e100af281958",
   "metadata": {},
   "outputs": [
    {
     "name": "stdout",
     "output_type": "stream",
     "text": [
      "Pregnancies                 0.000000\n",
      "Glucose                     0.396985\n",
      "BloodPressure               0.317213\n",
      "SkinThickness               0.000000\n",
      "Insulin                     0.000000\n",
      "BMI                         0.324888\n",
      "DiabetesPedigreeFunction    0.026623\n",
      "Age                         0.000000\n",
      "Outcome                     0.000000\n",
      "Name: 0.05, dtype: float64\n",
      "Pregnancies                 0.588235\n",
      "Glucose                     0.909548\n",
      "BloodPressure               0.737705\n",
      "SkinThickness               0.444444\n",
      "Insulin                     0.346336\n",
      "BMI                         0.661624\n",
      "DiabetesPedigreeFunction    0.450406\n",
      "Age                         0.616667\n",
      "Outcome                     1.000000\n",
      "Name: 0.95, dtype: float64\n"
     ]
    }
   ],
   "source": [
    "print(diabetes.quantile(0.05))\n",
    "print(diabetes.quantile(0.95))"
   ]
  },
  {
   "cell_type": "code",
   "execution_count": 17,
   "id": "ba1d376e-2f85-461b-bddc-2a6d53467127",
   "metadata": {},
   "outputs": [
    {
     "name": "stdout",
     "output_type": "stream",
     "text": [
      "(639, 9)\n"
     ]
    }
   ],
   "source": [
    "diabetes = diabetes[~((diabetes < (Q1 - 1.5 * IQR)) | (diabetes > (Q3 + 1.5 * IQR))).any(axis=1)]\n",
    "print(diabetes.shape)"
   ]
  },
  {
   "cell_type": "markdown",
   "id": "daf07b32-d7cb-4b5b-ad59-020e5ce5b170",
   "metadata": {},
   "source": [
    " - Here, No missing value imputation is required."
   ]
  },
  {
   "cell_type": "markdown",
   "id": "cd038b5c-bb1b-4923-b859-95293a0c6a2f",
   "metadata": {},
   "source": [
    "### Test-Train Split"
   ]
  },
  {
   "cell_type": "code",
   "execution_count": 18,
   "id": "69da8bed-353b-46ae-9c7c-7427c889ae0f",
   "metadata": {},
   "outputs": [],
   "source": [
    "from sklearn.model_selection import train_test_split"
   ]
  },
  {
   "cell_type": "code",
   "execution_count": 19,
   "id": "7f9734b0-d21a-4b3e-9997-6ace9c0f33fb",
   "metadata": {},
   "outputs": [
    {
     "data": {
      "text/html": [
       "<div>\n",
       "<style scoped>\n",
       "    .dataframe tbody tr th:only-of-type {\n",
       "        vertical-align: middle;\n",
       "    }\n",
       "\n",
       "    .dataframe tbody tr th {\n",
       "        vertical-align: top;\n",
       "    }\n",
       "\n",
       "    .dataframe thead th {\n",
       "        text-align: right;\n",
       "    }\n",
       "</style>\n",
       "<table border=\"1\" class=\"dataframe\">\n",
       "  <thead>\n",
       "    <tr style=\"text-align: right;\">\n",
       "      <th></th>\n",
       "      <th>Pregnancies</th>\n",
       "      <th>Glucose</th>\n",
       "      <th>BloodPressure</th>\n",
       "      <th>SkinThickness</th>\n",
       "      <th>Insulin</th>\n",
       "      <th>BMI</th>\n",
       "      <th>DiabetesPedigreeFunction</th>\n",
       "      <th>Age</th>\n",
       "      <th>Outcome</th>\n",
       "    </tr>\n",
       "  </thead>\n",
       "  <tbody>\n",
       "    <tr>\n",
       "      <th>0</th>\n",
       "      <td>0.352941</td>\n",
       "      <td>0.743719</td>\n",
       "      <td>0.590164</td>\n",
       "      <td>0.353535</td>\n",
       "      <td>0.0</td>\n",
       "      <td>0.500745</td>\n",
       "      <td>0.234415</td>\n",
       "      <td>0.483333</td>\n",
       "      <td>1.0</td>\n",
       "    </tr>\n",
       "    <tr>\n",
       "      <th>1</th>\n",
       "      <td>0.058824</td>\n",
       "      <td>0.427136</td>\n",
       "      <td>0.540984</td>\n",
       "      <td>0.292929</td>\n",
       "      <td>0.0</td>\n",
       "      <td>0.396423</td>\n",
       "      <td>0.116567</td>\n",
       "      <td>0.166667</td>\n",
       "      <td>0.0</td>\n",
       "    </tr>\n",
       "    <tr>\n",
       "      <th>2</th>\n",
       "      <td>0.470588</td>\n",
       "      <td>0.919598</td>\n",
       "      <td>0.524590</td>\n",
       "      <td>0.000000</td>\n",
       "      <td>0.0</td>\n",
       "      <td>0.347243</td>\n",
       "      <td>0.253629</td>\n",
       "      <td>0.183333</td>\n",
       "      <td>1.0</td>\n",
       "    </tr>\n",
       "  </tbody>\n",
       "</table>\n",
       "</div>"
      ],
      "text/plain": [
       "   Pregnancies   Glucose  BloodPressure  SkinThickness  Insulin       BMI  \\\n",
       "0     0.352941  0.743719       0.590164       0.353535      0.0  0.500745   \n",
       "1     0.058824  0.427136       0.540984       0.292929      0.0  0.396423   \n",
       "2     0.470588  0.919598       0.524590       0.000000      0.0  0.347243   \n",
       "\n",
       "   DiabetesPedigreeFunction       Age  Outcome  \n",
       "0                  0.234415  0.483333      1.0  \n",
       "1                  0.116567  0.166667      0.0  \n",
       "2                  0.253629  0.183333      1.0  "
      ]
     },
     "execution_count": 19,
     "metadata": {},
     "output_type": "execute_result"
    }
   ],
   "source": [
    "diabetes.head(3)"
   ]
  },
  {
   "cell_type": "code",
   "execution_count": 20,
   "id": "6ae56274-41e6-400f-b215-1b7ccf07f2ae",
   "metadata": {},
   "outputs": [
    {
     "data": {
      "text/html": [
       "<div>\n",
       "<style scoped>\n",
       "    .dataframe tbody tr th:only-of-type {\n",
       "        vertical-align: middle;\n",
       "    }\n",
       "\n",
       "    .dataframe tbody tr th {\n",
       "        vertical-align: top;\n",
       "    }\n",
       "\n",
       "    .dataframe thead th {\n",
       "        text-align: right;\n",
       "    }\n",
       "</style>\n",
       "<table border=\"1\" class=\"dataframe\">\n",
       "  <thead>\n",
       "    <tr style=\"text-align: right;\">\n",
       "      <th></th>\n",
       "      <th>Pregnancies</th>\n",
       "      <th>Glucose</th>\n",
       "      <th>BloodPressure</th>\n",
       "      <th>SkinThickness</th>\n",
       "      <th>Insulin</th>\n",
       "      <th>BMI</th>\n",
       "      <th>DiabetesPedigreeFunction</th>\n",
       "      <th>Age</th>\n",
       "    </tr>\n",
       "  </thead>\n",
       "  <tbody>\n",
       "    <tr>\n",
       "      <th>0</th>\n",
       "      <td>0.352941</td>\n",
       "      <td>0.743719</td>\n",
       "      <td>0.590164</td>\n",
       "      <td>0.353535</td>\n",
       "      <td>0.000000</td>\n",
       "      <td>0.500745</td>\n",
       "      <td>0.234415</td>\n",
       "      <td>0.483333</td>\n",
       "    </tr>\n",
       "    <tr>\n",
       "      <th>1</th>\n",
       "      <td>0.058824</td>\n",
       "      <td>0.427136</td>\n",
       "      <td>0.540984</td>\n",
       "      <td>0.292929</td>\n",
       "      <td>0.000000</td>\n",
       "      <td>0.396423</td>\n",
       "      <td>0.116567</td>\n",
       "      <td>0.166667</td>\n",
       "    </tr>\n",
       "    <tr>\n",
       "      <th>2</th>\n",
       "      <td>0.470588</td>\n",
       "      <td>0.919598</td>\n",
       "      <td>0.524590</td>\n",
       "      <td>0.000000</td>\n",
       "      <td>0.000000</td>\n",
       "      <td>0.347243</td>\n",
       "      <td>0.253629</td>\n",
       "      <td>0.183333</td>\n",
       "    </tr>\n",
       "    <tr>\n",
       "      <th>3</th>\n",
       "      <td>0.058824</td>\n",
       "      <td>0.447236</td>\n",
       "      <td>0.540984</td>\n",
       "      <td>0.232323</td>\n",
       "      <td>0.111111</td>\n",
       "      <td>0.418778</td>\n",
       "      <td>0.038002</td>\n",
       "      <td>0.000000</td>\n",
       "    </tr>\n",
       "    <tr>\n",
       "      <th>5</th>\n",
       "      <td>0.294118</td>\n",
       "      <td>0.582915</td>\n",
       "      <td>0.606557</td>\n",
       "      <td>0.000000</td>\n",
       "      <td>0.000000</td>\n",
       "      <td>0.381520</td>\n",
       "      <td>0.052519</td>\n",
       "      <td>0.150000</td>\n",
       "    </tr>\n",
       "  </tbody>\n",
       "</table>\n",
       "</div>"
      ],
      "text/plain": [
       "   Pregnancies   Glucose  BloodPressure  SkinThickness   Insulin       BMI  \\\n",
       "0     0.352941  0.743719       0.590164       0.353535  0.000000  0.500745   \n",
       "1     0.058824  0.427136       0.540984       0.292929  0.000000  0.396423   \n",
       "2     0.470588  0.919598       0.524590       0.000000  0.000000  0.347243   \n",
       "3     0.058824  0.447236       0.540984       0.232323  0.111111  0.418778   \n",
       "5     0.294118  0.582915       0.606557       0.000000  0.000000  0.381520   \n",
       "\n",
       "   DiabetesPedigreeFunction       Age  \n",
       "0                  0.234415  0.483333  \n",
       "1                  0.116567  0.166667  \n",
       "2                  0.253629  0.183333  \n",
       "3                  0.038002  0.000000  \n",
       "5                  0.052519  0.150000  "
      ]
     },
     "execution_count": 20,
     "metadata": {},
     "output_type": "execute_result"
    }
   ],
   "source": [
    "# Putting feature variable to X\n",
    "X = diabetes.drop(['Outcome'], axis=1)\n",
    "X.head()"
   ]
  },
  {
   "cell_type": "code",
   "execution_count": 21,
   "id": "18f6cd4d-2dbb-4c4d-ba51-f6f799318fd6",
   "metadata": {},
   "outputs": [
    {
     "data": {
      "text/plain": [
       "0    1.0\n",
       "1    0.0\n",
       "2    1.0\n",
       "3    0.0\n",
       "5    0.0\n",
       "Name: Outcome, dtype: float64"
      ]
     },
     "execution_count": 21,
     "metadata": {},
     "output_type": "execute_result"
    }
   ],
   "source": [
    "# Putting response variable to y\n",
    "y = diabetes['Outcome']\n",
    "y.head()"
   ]
  },
  {
   "cell_type": "markdown",
   "id": "74d1b5a0-df36-4e88-a3c0-373dab9e8ad3",
   "metadata": {},
   "source": [
    "##### Feature Importance\n",
    "This technique gives you a score for each feature of your data,the higher the score mor relevant it is"
   ]
  },
  {
   "cell_type": "code",
   "execution_count": 22,
   "id": "03577ae2-d656-453f-aa5e-d502643e000a",
   "metadata": {},
   "outputs": [
    {
     "data": {
      "text/plain": [
       "ExtraTreesClassifier()"
      ]
     },
     "execution_count": 22,
     "metadata": {},
     "output_type": "execute_result"
    }
   ],
   "source": [
    "from sklearn.ensemble import ExtraTreesClassifier\n",
    "import matplotlib.pyplot as plt\n",
    "model=ExtraTreesClassifier()\n",
    "model.fit(X,y)"
   ]
  },
  {
   "cell_type": "code",
   "execution_count": 23,
   "id": "dd7c739e-8748-4758-b792-3e4bcb8e3fd0",
   "metadata": {},
   "outputs": [
    {
     "name": "stdout",
     "output_type": "stream",
     "text": [
      "[0.11397333 0.23923474 0.10085128 0.07752089 0.07637722 0.13637882\n",
      " 0.11691217 0.13875156]\n"
     ]
    }
   ],
   "source": [
    "print(model.feature_importances_)"
   ]
  },
  {
   "cell_type": "code",
   "execution_count": 24,
   "id": "fb67d5e0-25f3-4fff-b493-e65766d7b36d",
   "metadata": {},
   "outputs": [
    {
     "data": {
      "image/png": "[encoded data removed]",
      "text/plain": [
       "<Figure size 432x288 with 1 Axes>"
      ]
     },
     "metadata": {
      "needs_background": "light"
     },
     "output_type": "display_data"
    }
   ],
   "source": [
    "ranked_features=pd.Series(model.feature_importances_,index=X.columns)\n",
    "ranked_features.nlargest(10).plot(kind='barh')\n",
    "plt.show()"
   ]
  },
  {
   "cell_type": "markdown",
   "id": "edff7de3-4f50-4844-8770-168e71a8dcaf",
   "metadata": {},
   "source": [
    "#### Correlation"
   ]
  },
  {
   "cell_type": "code",
   "execution_count": 25,
   "id": "fa85f9f4-8e1c-4a35-b6df-09cab16258b1",
   "metadata": {},
   "outputs": [
    {
     "data": {
      "text/html": [
       "<div>\n",
       "<style scoped>\n",
       "    .dataframe tbody tr th:only-of-type {\n",
       "        vertical-align: middle;\n",
       "    }\n",
       "\n",
       "    .dataframe tbody tr th {\n",
       "        vertical-align: top;\n",
       "    }\n",
       "\n",
       "    .dataframe thead th {\n",
       "        text-align: right;\n",
       "    }\n",
       "</style>\n",
       "<table border=\"1\" class=\"dataframe\">\n",
       "  <thead>\n",
       "    <tr style=\"text-align: right;\">\n",
       "      <th></th>\n",
       "      <th>Pregnancies</th>\n",
       "      <th>Glucose</th>\n",
       "      <th>BloodPressure</th>\n",
       "      <th>SkinThickness</th>\n",
       "      <th>Insulin</th>\n",
       "      <th>BMI</th>\n",
       "      <th>DiabetesPedigreeFunction</th>\n",
       "      <th>Age</th>\n",
       "      <th>Outcome</th>\n",
       "    </tr>\n",
       "  </thead>\n",
       "  <tbody>\n",
       "    <tr>\n",
       "      <th>Pregnancies</th>\n",
       "      <td>1.000000</td>\n",
       "      <td>0.142093</td>\n",
       "      <td>0.210666</td>\n",
       "      <td>-0.094425</td>\n",
       "      <td>-0.114510</td>\n",
       "      <td>0.036958</td>\n",
       "      <td>0.009289</td>\n",
       "      <td>0.567438</td>\n",
       "      <td>0.227987</td>\n",
       "    </tr>\n",
       "    <tr>\n",
       "      <th>Glucose</th>\n",
       "      <td>0.142093</td>\n",
       "      <td>1.000000</td>\n",
       "      <td>0.238754</td>\n",
       "      <td>-0.004609</td>\n",
       "      <td>0.248225</td>\n",
       "      <td>0.192504</td>\n",
       "      <td>0.066530</td>\n",
       "      <td>0.286682</td>\n",
       "      <td>0.492740</td>\n",
       "    </tr>\n",
       "    <tr>\n",
       "      <th>BloodPressure</th>\n",
       "      <td>0.210666</td>\n",
       "      <td>0.238754</td>\n",
       "      <td>1.000000</td>\n",
       "      <td>0.037388</td>\n",
       "      <td>-0.041513</td>\n",
       "      <td>0.303301</td>\n",
       "      <td>0.024290</td>\n",
       "      <td>0.354036</td>\n",
       "      <td>0.183298</td>\n",
       "    </tr>\n",
       "    <tr>\n",
       "      <th>SkinThickness</th>\n",
       "      <td>-0.094425</td>\n",
       "      <td>-0.004609</td>\n",
       "      <td>0.037388</td>\n",
       "      <td>1.000000</td>\n",
       "      <td>0.487566</td>\n",
       "      <td>0.390340</td>\n",
       "      <td>0.148486</td>\n",
       "      <td>-0.143376</td>\n",
       "      <td>0.030676</td>\n",
       "    </tr>\n",
       "    <tr>\n",
       "      <th>Insulin</th>\n",
       "      <td>-0.114510</td>\n",
       "      <td>0.248225</td>\n",
       "      <td>-0.041513</td>\n",
       "      <td>0.487566</td>\n",
       "      <td>1.000000</td>\n",
       "      <td>0.188635</td>\n",
       "      <td>0.213191</td>\n",
       "      <td>-0.089535</td>\n",
       "      <td>0.097746</td>\n",
       "    </tr>\n",
       "    <tr>\n",
       "      <th>BMI</th>\n",
       "      <td>0.036958</td>\n",
       "      <td>0.192504</td>\n",
       "      <td>0.303301</td>\n",
       "      <td>0.390340</td>\n",
       "      <td>0.188635</td>\n",
       "      <td>1.000000</td>\n",
       "      <td>0.144757</td>\n",
       "      <td>0.063370</td>\n",
       "      <td>0.269371</td>\n",
       "    </tr>\n",
       "    <tr>\n",
       "      <th>DiabetesPedigreeFunction</th>\n",
       "      <td>0.009289</td>\n",
       "      <td>0.066530</td>\n",
       "      <td>0.024290</td>\n",
       "      <td>0.148486</td>\n",
       "      <td>0.213191</td>\n",
       "      <td>0.144757</td>\n",
       "      <td>1.000000</td>\n",
       "      <td>0.030081</td>\n",
       "      <td>0.179072</td>\n",
       "    </tr>\n",
       "    <tr>\n",
       "      <th>Age</th>\n",
       "      <td>0.567438</td>\n",
       "      <td>0.286682</td>\n",
       "      <td>0.354036</td>\n",
       "      <td>-0.143376</td>\n",
       "      <td>-0.089535</td>\n",
       "      <td>0.063370</td>\n",
       "      <td>0.030081</td>\n",
       "      <td>1.000000</td>\n",
       "      <td>0.263344</td>\n",
       "    </tr>\n",
       "    <tr>\n",
       "      <th>Outcome</th>\n",
       "      <td>0.227987</td>\n",
       "      <td>0.492740</td>\n",
       "      <td>0.183298</td>\n",
       "      <td>0.030676</td>\n",
       "      <td>0.097746</td>\n",
       "      <td>0.269371</td>\n",
       "      <td>0.179072</td>\n",
       "      <td>0.263344</td>\n",
       "      <td>1.000000</td>\n",
       "    </tr>\n",
       "  </tbody>\n",
       "</table>\n",
       "</div>"
      ],
      "text/plain": [
       "                          Pregnancies   Glucose  BloodPressure  SkinThickness  \\\n",
       "Pregnancies                  1.000000  0.142093       0.210666      -0.094425   \n",
       "Glucose                      0.142093  1.000000       0.238754      -0.004609   \n",
       "BloodPressure                0.210666  0.238754       1.000000       0.037388   \n",
       "SkinThickness               -0.094425 -0.004609       0.037388       1.000000   \n",
       "Insulin                     -0.114510  0.248225      -0.041513       0.487566   \n",
       "BMI                          0.036958  0.192504       0.303301       0.390340   \n",
       "DiabetesPedigreeFunction     0.009289  0.066530       0.024290       0.148486   \n",
       "Age                          0.567438  0.286682       0.354036      -0.143376   \n",
       "Outcome                      0.227987  0.492740       0.183298       0.030676   \n",
       "\n",
       "                           Insulin       BMI  DiabetesPedigreeFunction  \\\n",
       "Pregnancies              -0.114510  0.036958                  0.009289   \n",
       "Glucose                   0.248225  0.192504                  0.066530   \n",
       "BloodPressure            -0.041513  0.303301                  0.024290   \n",
       "SkinThickness             0.487566  0.390340                  0.148486   \n",
       "Insulin                   1.000000  0.188635                  0.213191   \n",
       "BMI                       0.188635  1.000000                  0.144757   \n",
       "DiabetesPedigreeFunction  0.213191  0.144757                  1.000000   \n",
       "Age                      -0.089535  0.063370                  0.030081   \n",
       "Outcome                   0.097746  0.269371                  0.179072   \n",
       "\n",
       "                               Age   Outcome  \n",
       "Pregnancies               0.567438  0.227987  \n",
       "Glucose                   0.286682  0.492740  \n",
       "BloodPressure             0.354036  0.183298  \n",
       "SkinThickness            -0.143376  0.030676  \n",
       "Insulin                  -0.089535  0.097746  \n",
       "BMI                       0.063370  0.269371  \n",
       "DiabetesPedigreeFunction  0.030081  0.179072  \n",
       "Age                       1.000000  0.263344  \n",
       "Outcome                   0.263344  1.000000  "
      ]
     },
     "execution_count": 25,
     "metadata": {},
     "output_type": "execute_result"
    }
   ],
   "source": [
    "diabetes.corr()"
   ]
  },
  {
   "cell_type": "code",
   "execution_count": 26,
   "id": "9199983a-6ed9-44f5-99f0-f01b082aae22",
   "metadata": {},
   "outputs": [
    {
     "data": {
      "text/plain": [
       "<AxesSubplot:>"
      ]
     },
     "execution_count": 26,
     "metadata": {},
     "output_type": "execute_result"
    },
    {
     "data": {
      "image/png": "[encoded data removed]",
      "text/plain": [
       "<Figure size 720x360 with 2 Axes>"
      ]
     },
     "metadata": {
      "needs_background": "light"
     },
     "output_type": "display_data"
    }
   ],
   "source": [
    "import seaborn as sns\n",
    "corr=diabetes.iloc[:,:-1].corr()\n",
    "top_features=corr.index\n",
    "plt.figure(figsize=(10,5))\n",
    "sns.heatmap(diabetes[top_features].corr(),annot=True)\n"
   ]
  },
  {
   "cell_type": "code",
   "execution_count": 27,
   "id": "d792dbb6-62f1-4c82-972e-00a3a692cfcc",
   "metadata": {},
   "outputs": [],
   "source": [
    "#### Remove The correlated"
   ]
  },
  {
   "cell_type": "code",
   "execution_count": 28,
   "id": "3c2ac7d8-8c97-4d7c-a996-df425dd88ac3",
   "metadata": {},
   "outputs": [],
   "source": [
    "threshold=0.5"
   ]
  },
  {
   "cell_type": "code",
   "execution_count": 29,
   "id": "d53d9a29-2ff2-4350-9273-5e41134dc7c1",
   "metadata": {},
   "outputs": [],
   "source": [
    "# find and remove correlated features\n",
    "def correlation(dataset, threshold):\n",
    "    col_corr = set()  # Set of all the names of correlated columns\n",
    "    corr_matrix = dataset.corr()\n",
    "    for i in range(len(corr_matrix.columns)):\n",
    "        for j in range(i):\n",
    "            if abs(corr_matrix.iloc[i, j]) > threshold: # we are interested in absolute coeff value\n",
    "                colname = corr_matrix.columns[i]  # getting the name of column\n",
    "                col_corr.add(colname)\n",
    "    return col_corr"
   ]
  },
  {
   "cell_type": "code",
   "execution_count": 30,
   "id": "7c1b45ba-a2fc-4c74-a04b-3a94c9c901a7",
   "metadata": {},
   "outputs": [
    {
     "data": {
      "text/plain": [
       "{'Age'}"
      ]
     },
     "execution_count": 30,
     "metadata": {},
     "output_type": "execute_result"
    }
   ],
   "source": [
    "correlation(diabetes.iloc[:,:-1],threshold)"
   ]
  },
  {
   "cell_type": "markdown",
   "id": "71f521d6-bfb0-4e16-80d5-e8a203877ba3",
   "metadata": {},
   "source": [
    "#### Information Gain"
   ]
  },
  {
   "cell_type": "code",
   "execution_count": 31,
   "id": "95087c64-100d-454c-bb91-a10e3350d8dd",
   "metadata": {},
   "outputs": [],
   "source": [
    "from sklearn.feature_selection import mutual_info_classif"
   ]
  },
  {
   "cell_type": "code",
   "execution_count": 32,
   "id": "2609f4a2-83ab-4897-a63b-3f9783bf926b",
   "metadata": {},
   "outputs": [],
   "source": [
    "mutual_info=mutual_info_classif(X,y)"
   ]
  },
  {
   "cell_type": "code",
   "execution_count": 33,
   "id": "9991ec7f-067e-49b5-bd6f-5c632f4b68fd",
   "metadata": {},
   "outputs": [
    {
     "data": {
      "text/plain": [
       "Glucose                     0.121437\n",
       "BMI                         0.064801\n",
       "Age                         0.031475\n",
       "Insulin                     0.025175\n",
       "SkinThickness               0.013931\n",
       "Pregnancies                 0.012261\n",
       "BloodPressure               0.003438\n",
       "DiabetesPedigreeFunction    0.000000\n",
       "dtype: float64"
      ]
     },
     "execution_count": 33,
     "metadata": {},
     "output_type": "execute_result"
    }
   ],
   "source": [
    "mutual_data=pd.Series(mutual_info,index=X.columns)\n",
    "mutual_data.sort_values(ascending=False)\n"
   ]
  },
  {
   "cell_type": "markdown",
   "id": "5370c076-3312-4006-b8ee-98c880850bdb",
   "metadata": {},
   "source": [
    "### Dropping the column with `High Correlation`"
   ]
  },
  {
   "cell_type": "code",
   "execution_count": 34,
   "id": "f3384c54-5ce7-4736-8646-dc3736cbaca8",
   "metadata": {},
   "outputs": [],
   "source": [
    "X = X.drop(['Age'], axis=1)"
   ]
  },
  {
   "cell_type": "markdown",
   "id": "b1e94a3f-a569-45be-a682-a2164f136b6a",
   "metadata": {},
   "source": [
    "### Further Running the `ExtraTreeClassifier Algorithm` to check the Feature Importance "
   ]
  },
  {
   "cell_type": "code",
   "execution_count": 35,
   "id": "f72a1905-b7d9-409f-8df9-af4ded44cfa9",
   "metadata": {},
   "outputs": [
    {
     "data": {
      "text/plain": [
       "ExtraTreesClassifier()"
      ]
     },
     "execution_count": 35,
     "metadata": {},
     "output_type": "execute_result"
    }
   ],
   "source": [
    "from sklearn.ensemble import ExtraTreesClassifier\n",
    "import matplotlib.pyplot as plt\n",
    "model=ExtraTreesClassifier()\n",
    "model.fit(X,y)"
   ]
  },
  {
   "cell_type": "code",
   "execution_count": 36,
   "id": "26b72cb1-ddc5-4a71-bfa8-f7c72eaaf62e",
   "metadata": {},
   "outputs": [
    {
     "name": "stdout",
     "output_type": "stream",
     "text": [
      "[0.13410459 0.26350954 0.11943762 0.09076764 0.08481704 0.16314734\n",
      " 0.14421624]\n"
     ]
    }
   ],
   "source": [
    "print(model.feature_importances_)"
   ]
  },
  {
   "cell_type": "code",
   "execution_count": 37,
   "id": "7aa55304-33fa-4c60-ae92-375538b9693a",
   "metadata": {},
   "outputs": [
    {
     "data": {
      "image/png": "[encoded data removed]",
      "text/plain": [
       "<Figure size 432x288 with 1 Axes>"
      ]
     },
     "metadata": {
      "needs_background": "light"
     },
     "output_type": "display_data"
    }
   ],
   "source": [
    "ranked_features=pd.Series(model.feature_importances_,index=X.columns)\n",
    "ranked_features.nlargest(10).plot(kind='barh')\n",
    "plt.show()"
   ]
  },
  {
   "cell_type": "markdown",
   "id": "44a46550-394f-4c56-8ff6-4a01bc36eb9d",
   "metadata": {},
   "source": [
    "#### Let's Consider the `Top 5 Features `"
   ]
  },
  {
   "cell_type": "code",
   "execution_count": 38,
   "id": "9c0ad3da-e267-4718-b6f4-e4f882551d88",
   "metadata": {},
   "outputs": [],
   "source": [
    "X = X.drop(['Insulin'], axis=1)"
   ]
  },
  {
   "cell_type": "code",
   "execution_count": 39,
   "id": "dea5a32f-e4d1-408d-ba42-7b25e8ac98de",
   "metadata": {},
   "outputs": [],
   "source": [
    "X = X.drop(['SkinThickness'], axis=1)"
   ]
  },
  {
   "cell_type": "code",
   "execution_count": 40,
   "id": "aaece62f-4669-4560-8ee4-18d8568eb31b",
   "metadata": {},
   "outputs": [
    {
     "data": {
      "text/plain": [
       "Index(['Pregnancies', 'Glucose', 'BloodPressure', 'BMI',\n",
       "       'DiabetesPedigreeFunction'],\n",
       "      dtype='object')"
      ]
     },
     "execution_count": 40,
     "metadata": {},
     "output_type": "execute_result"
    }
   ],
   "source": [
    "X.columns"
   ]
  },
  {
   "cell_type": "code",
   "execution_count": 41,
   "id": "314975bd-41c0-4744-9a53-135f952ec953",
   "metadata": {},
   "outputs": [
    {
     "data": {
      "text/plain": [
       "0.0    439\n",
       "1.0    200\n",
       "Name: Outcome, dtype: int64"
      ]
     },
     "execution_count": 41,
     "metadata": {},
     "output_type": "execute_result"
    }
   ],
   "source": [
    "y.value_counts()"
   ]
  },
  {
   "cell_type": "code",
   "execution_count": 42,
   "id": "a0eeb650-b2fc-40b2-8c02-3d5ec4f033b4",
   "metadata": {},
   "outputs": [],
   "source": [
    "# columnslitting the data into train and test\n",
    "X_train, X_test, y_train, y_test = train_test_split(X, y, train_size=0.7, test_size=0.3, random_state=100)"
   ]
  },
  {
   "cell_type": "code",
   "execution_count": 43,
   "id": "e048f851-8899-4980-ad3a-d70193a8e154",
   "metadata": {},
   "outputs": [
    {
     "name": "stdout",
     "output_type": "stream",
     "text": [
      "(447, 5)\n",
      "(192, 5)\n",
      "(447,)\n",
      "(192,)\n"
     ]
    }
   ],
   "source": [
    "print(X_train.shape)\n",
    "print(X_test.shape)\n",
    "print(y_train.shape)\n",
    "print(y_test.shape)"
   ]
  },
  {
   "cell_type": "markdown",
   "id": "ebef56be-7780-4b7f-8515-5d12bf11103f",
   "metadata": {},
   "source": [
    "### Pipeline Creation"
   ]
  },
  {
   "cell_type": "code",
   "execution_count": 44,
   "id": "0edef58a-2d96-4a96-8317-1d192059a46f",
   "metadata": {},
   "outputs": [],
   "source": [
    "## Pipelines Creation\n",
    "## 1. Data Preprocessing by using Standard Scaler\n",
    "## 2. Reduce Dimension using PCA\n",
    "## 3. Apply  Classifier"
   ]
  },
  {
   "cell_type": "code",
   "execution_count": 45,
   "id": "99829991-9968-4783-88a2-96ae399d6200",
   "metadata": {},
   "outputs": [],
   "source": [
    "pipeline_lr=Pipeline([('scalar1',StandardScaler()),\n",
    "                     ('pca1',PCA(n_components=5)),\n",
    "                     ('lr_classifier',LogisticRegression(random_state=0))])"
   ]
  },
  {
   "cell_type": "code",
   "execution_count": 46,
   "id": "08f18d97-6878-4368-8a85-729340c860fa",
   "metadata": {},
   "outputs": [],
   "source": [
    "pipeline_dt=Pipeline([('scalar2',StandardScaler()),\n",
    "                     ('pca2',PCA(n_components=5)),\n",
    "                     ('dt_classifier',DecisionTreeClassifier())])"
   ]
  },
  {
   "cell_type": "code",
   "execution_count": 47,
   "id": "1fa00421-8f51-4899-b43e-4f0b126e10a5",
   "metadata": {},
   "outputs": [],
   "source": [
    "pipeline_randomforest=Pipeline([('scalar3',StandardScaler()),\n",
    "                     ('pca3',PCA(n_components=5)),\n",
    "                     ('rf_classifier',RandomForestClassifier())])"
   ]
  },
  {
   "cell_type": "code",
   "execution_count": 48,
   "id": "f24021c1-1a80-469b-8dd9-73d6d5521a72",
   "metadata": {},
   "outputs": [],
   "source": [
    "pipeline_xgbclassifier=Pipeline([('scalar3',StandardScaler()),\n",
    "                     ('pca3',PCA(n_components=5)),\n",
    "                     ('rf_classifier',XGBClassifier())])"
   ]
  },
  {
   "cell_type": "code",
   "execution_count": 49,
   "id": "352ba7d1-a0c8-4ad6-9347-1810f915d400",
   "metadata": {},
   "outputs": [],
   "source": [
    "## LEts make the list of pipelines\n",
    "pipelines = [pipeline_lr, pipeline_dt, pipeline_randomforest, pipeline_xgbclassifier]"
   ]
  },
  {
   "cell_type": "code",
   "execution_count": 50,
   "id": "a3ec6c32-ea45-44d2-8e32-8682d9dc62d4",
   "metadata": {},
   "outputs": [],
   "source": [
    "best_accuracy=0.0\n",
    "best_classifier=0\n",
    "best_pipeline=\"\""
   ]
  },
  {
   "cell_type": "code",
   "execution_count": 51,
   "id": "9a7d4869-a4a1-474e-b304-d81272e2e85c",
   "metadata": {},
   "outputs": [
    {
     "name": "stdout",
     "output_type": "stream",
     "text": [
      "[15:19:55] WARNING: C:/Users/Administrator/workspace/xgboost-win64_release_1.4.0/src/learner.cc:1095: Starting in XGBoost 1.3.0, the default evaluation metric used with the objective 'binary:logistic' was changed from 'error' to 'logloss'. Explicitly set eval_metric if you'd like to restore the old behavior.\n"
     ]
    }
   ],
   "source": [
    "# Dictionary of pipelines and classifier types for ease of reference\n",
    "pipe_dict = {0: 'Logistic Regression', 1: 'Decision Tree', 2: 'RandomForest', 3: 'XGBClassifier'}\n",
    "\n",
    "# Fit the pipelines\n",
    "for pipe in pipelines:\n",
    "\tpipe.fit(X_train, y_train)"
   ]
  },
  {
   "cell_type": "code",
   "execution_count": 52,
   "id": "9b6a1edd-8625-4b16-ba50-24fa7ddedf55",
   "metadata": {},
   "outputs": [
    {
     "name": "stdout",
     "output_type": "stream",
     "text": [
      "Logistic Regression Test Accuracy: 0.7916666666666666\n",
      "Decision Tree Test Accuracy: 0.671875\n",
      "RandomForest Test Accuracy: 0.7604166666666666\n",
      "XGBClassifier Test Accuracy: 0.7239583333333334\n"
     ]
    }
   ],
   "source": [
    "for i,model in enumerate(pipelines):\n",
    "    print(\"{} Test Accuracy: {}\".format(pipe_dict[i],model.score(X_test,y_test)))"
   ]
  },
  {
   "cell_type": "code",
   "execution_count": 53,
   "id": "ca7dd1d2-f240-4c74-8b45-2a3c27039264",
   "metadata": {},
   "outputs": [
    {
     "name": "stdout",
     "output_type": "stream",
     "text": [
      "Classifier with best accuracy:Logistic Regression\n"
     ]
    }
   ],
   "source": [
    "for i,model in enumerate(pipelines):\n",
    "    if model.score(X_test,y_test)>best_accuracy:\n",
    "        best_accuracy=model.score(X_test,y_test)\n",
    "        best_pipeline=model\n",
    "        best_classifier=i\n",
    "print('Classifier with best accuracy:{}'.format(pipe_dict[best_classifier]))"
   ]
  },
  {
   "cell_type": "code",
   "execution_count": 54,
   "id": "4d14b412-82b5-4f8c-8ecd-4752368e1f06",
   "metadata": {},
   "outputs": [],
   "source": [
    "from sklearn.tree import DecisionTreeClassifier\n",
    "dt_classifier=DecisionTreeClassifier(random_state=0).fit(X_train,y_train)\n",
    "prediction=dt_classifier.predict(X_test)"
   ]
  },
  {
   "cell_type": "code",
   "execution_count": 55,
   "id": "d67d7d2a-d44b-4707-8e0d-86c3c9534cd7",
   "metadata": {},
   "outputs": [
    {
     "data": {
      "text/plain": [
       "0.0    129\n",
       "1.0     63\n",
       "Name: Outcome, dtype: int64"
      ]
     },
     "execution_count": 55,
     "metadata": {},
     "output_type": "execute_result"
    }
   ],
   "source": [
    "y_test.value_counts()"
   ]
  },
  {
   "cell_type": "code",
   "execution_count": 56,
   "id": "c44372d4-8b7b-4724-86bd-e2b54c4e694b",
   "metadata": {},
   "outputs": [
    {
     "name": "stdout",
     "output_type": "stream",
     "text": [
      "[[101  28]\n",
      " [ 39  24]]\n",
      "0.6510416666666666\n",
      "              precision    recall  f1-score   support\n",
      "\n",
      "         0.0       0.72      0.78      0.75       129\n",
      "         1.0       0.46      0.38      0.42        63\n",
      "\n",
      "    accuracy                           0.65       192\n",
      "   macro avg       0.59      0.58      0.58       192\n",
      "weighted avg       0.64      0.65      0.64       192\n",
      "\n"
     ]
    }
   ],
   "source": [
    "from sklearn.metrics import confusion_matrix,classification_report,accuracy_score\n",
    "print(confusion_matrix(y_test,prediction))\n",
    "print(accuracy_score(y_test,prediction))\n",
    "print(classification_report(y_test,prediction))"
   ]
  },
  {
   "cell_type": "code",
   "execution_count": 57,
   "id": "4f1197e8-6040-4da9-961b-9b0745a6d116",
   "metadata": {},
   "outputs": [],
   "source": [
    "### Hyper Parameter Tuning"
   ]
  },
  {
   "cell_type": "code",
   "execution_count": 58,
   "id": "fd480898-077f-4c7a-9b62-21a57a5d0b1d",
   "metadata": {},
   "outputs": [
    {
     "name": "stdout",
     "output_type": "stream",
     "text": [
      "[[127   2]\n",
      " [ 42  21]]\n",
      "0.7708333333333334\n",
      "              precision    recall  f1-score   support\n",
      "\n",
      "         0.0       0.75      0.98      0.85       129\n",
      "         1.0       0.91      0.33      0.49        63\n",
      "\n",
      "    accuracy                           0.77       192\n",
      "   macro avg       0.83      0.66      0.67       192\n",
      "weighted avg       0.80      0.77      0.73       192\n",
      "\n"
     ]
    }
   ],
   "source": [
    "### Manual Hyperparameter Tuning\n",
    "\n",
    "model=LogisticRegression(penalty='l2',solver='lbfgs',max_iter=100).fit(X_train,y_train)\n",
    "predictions=model.predict(X_test)\n",
    "print(confusion_matrix(y_test,predictions))\n",
    "print(accuracy_score(y_test,predictions))\n",
    "print(classification_report(y_test,predictions))"
   ]
  },
  {
   "cell_type": "markdown",
   "id": "1c382dca-a2da-4109-aa0d-b45bfbc2b627",
   "metadata": {},
   "source": [
    "##### Randomized Search Cv"
   ]
  },
  {
   "cell_type": "code",
   "execution_count": 59,
   "id": "f2cf1fc8-c53e-40ff-840c-81f69becd6ac",
   "metadata": {},
   "outputs": [
    {
     "name": "stdout",
     "output_type": "stream",
     "text": [
      "{'penalty': ['l1', 'l2', 'elasticnet', 'none'], 'C': array([1.00000000e-04, 2.63665090e-04, 6.95192796e-04, 1.83298071e-03,\n",
      "       4.83293024e-03, 1.27427499e-02, 3.35981829e-02, 8.85866790e-02,\n",
      "       2.33572147e-01, 6.15848211e-01, 1.62377674e+00, 4.28133240e+00,\n",
      "       1.12883789e+01, 2.97635144e+01, 7.84759970e+01, 2.06913808e+02,\n",
      "       5.45559478e+02, 1.43844989e+03, 3.79269019e+03, 1.00000000e+04]), 'solver': ['lbfgs', 'newton-cg', 'liblinear', 'sag', 'saga'], 'max_iter': [100, 1000, 2500, 5000]}\n"
     ]
    }
   ],
   "source": [
    "import numpy as np\n",
    "from sklearn.model_selection import RandomizedSearchCV\n",
    "# Number of features to consider at every split\n",
    "penalty = ['l1', 'l2', 'elasticnet', 'none']\n",
    "# Maximum number of levels in tree\n",
    "C=np.logspace(-4, 4, 20)\n",
    "# Minimum number of samples required to split a node\n",
    "solver=['lbfgs','newton-cg','liblinear','sag','saga']\n",
    "# Minimum number of samples required at each leaf node\n",
    "max_iter=[100, 1000,2500, 5000]\n",
    "# Create the random grid\n",
    "random_grid = {'penalty': penalty,\n",
    "               'C': C,\n",
    "               'solver': solver,\n",
    "               'max_iter': max_iter}\n",
    "print(random_grid)"
   ]
  },
  {
   "cell_type": "code",
   "execution_count": 60,
   "id": "95832e68-71e7-4e68-9057-8dacb019e456",
   "metadata": {},
   "outputs": [
    {
     "name": "stdout",
     "output_type": "stream",
     "text": [
      "Fitting 3 folds for each of 10 candidates, totalling 30 fits\n"
     ]
    },
    {
     "name": "stderr",
     "output_type": "stream",
     "text": [
      "[Parallel(n_jobs=-1)]: Using backend LokyBackend with 4 concurrent workers.\n",
      "[Parallel(n_jobs=-1)]: Done  30 out of  30 | elapsed:    2.7s finished\n"
     ]
    },
    {
     "data": {
      "text/plain": [
       "RandomizedSearchCV(cv=3, estimator=LogisticRegression(), n_jobs=-1,\n",
       "                   param_distributions={'C': array([1.00000000e-04, 2.63665090e-04, 6.95192796e-04, 1.83298071e-03,\n",
       "       4.83293024e-03, 1.27427499e-02, 3.35981829e-02, 8.85866790e-02,\n",
       "       2.33572147e-01, 6.15848211e-01, 1.62377674e+00, 4.28133240e+00,\n",
       "       1.12883789e+01, 2.97635144e+01, 7.84759970e+01, 2.06913808e+02,\n",
       "       5.45559478e+02, 1.43844989e+03, 3.79269019e+03, 1.00000000e+04]),\n",
       "                                        'max_iter': [100, 1000, 2500, 5000],\n",
       "                                        'penalty': ['l1', 'l2', 'elasticnet',\n",
       "                                                    'none'],\n",
       "                                        'solver': ['lbfgs', 'newton-cg',\n",
       "                                                   'liblinear', 'sag',\n",
       "                                                   'saga']},\n",
       "                   random_state=100, verbose=2)"
      ]
     },
     "execution_count": 60,
     "metadata": {},
     "output_type": "execute_result"
    }
   ],
   "source": [
    "rf=LogisticRegression()\n",
    "rf_randomcv=RandomizedSearchCV(estimator=rf,param_distributions=random_grid,cv=3,verbose=2,\n",
    "                               random_state=100,n_jobs=-1)\n",
    "### fit the randomized model\n",
    "rf_randomcv.fit(X_train,y_train)"
   ]
  },
  {
   "cell_type": "code",
   "execution_count": 61,
   "id": "a155827c-34af-4317-a478-815aea4a66ec",
   "metadata": {},
   "outputs": [
    {
     "data": {
      "text/plain": [
       "{'solver': 'saga', 'penalty': 'l1', 'max_iter': 1000, 'C': 10000.0}"
      ]
     },
     "execution_count": 61,
     "metadata": {},
     "output_type": "execute_result"
    }
   ],
   "source": [
    "rf_randomcv.best_params_"
   ]
  },
  {
   "cell_type": "code",
   "execution_count": 62,
   "id": "19fa7cd5-5ccb-4eb9-8e77-ba2fd1ba5796",
   "metadata": {},
   "outputs": [
    {
     "data": {
      "text/plain": [
       "RandomizedSearchCV(cv=3, estimator=LogisticRegression(), n_jobs=-1,\n",
       "                   param_distributions={'C': array([1.00000000e-04, 2.63665090e-04, 6.95192796e-04, 1.83298071e-03,\n",
       "       4.83293024e-03, 1.27427499e-02, 3.35981829e-02, 8.85866790e-02,\n",
       "       2.33572147e-01, 6.15848211e-01, 1.62377674e+00, 4.28133240e+00,\n",
       "       1.12883789e+01, 2.97635144e+01, 7.84759970e+01, 2.06913808e+02,\n",
       "       5.45559478e+02, 1.43844989e+03, 3.79269019e+03, 1.00000000e+04]),\n",
       "                                        'max_iter': [100, 1000, 2500, 5000],\n",
       "                                        'penalty': ['l1', 'l2', 'elasticnet',\n",
       "                                                    'none'],\n",
       "                                        'solver': ['lbfgs', 'newton-cg',\n",
       "                                                   'liblinear', 'sag',\n",
       "                                                   'saga']},\n",
       "                   random_state=100, verbose=2)"
      ]
     },
     "execution_count": 62,
     "metadata": {},
     "output_type": "execute_result"
    }
   ],
   "source": [
    "rf_randomcv"
   ]
  },
  {
   "cell_type": "code",
   "execution_count": 63,
   "id": "3e6c8cff-69d5-45d8-a766-feb410abbd47",
   "metadata": {},
   "outputs": [],
   "source": [
    "best_random_grid=rf_randomcv.best_estimator_"
   ]
  },
  {
   "cell_type": "code",
   "execution_count": 64,
   "id": "e5bf77e7-e9d4-4eb6-a33b-c30dcd948b16",
   "metadata": {},
   "outputs": [
    {
     "name": "stdout",
     "output_type": "stream",
     "text": [
      "[[123   6]\n",
      " [ 35  28]]\n",
      "Accuracy Score 0.7864583333333334\n",
      "Classification report:               precision    recall  f1-score   support\n",
      "\n",
      "         0.0       0.78      0.95      0.86       129\n",
      "         1.0       0.82      0.44      0.58        63\n",
      "\n",
      "    accuracy                           0.79       192\n",
      "   macro avg       0.80      0.70      0.72       192\n",
      "weighted avg       0.79      0.79      0.77       192\n",
      "\n"
     ]
    }
   ],
   "source": [
    "from sklearn.metrics import accuracy_score\n",
    "y_pred=best_random_grid.predict(X_test)\n",
    "print(confusion_matrix(y_test,y_pred))\n",
    "print(\"Accuracy Score {}\".format(accuracy_score(y_test,y_pred)))\n",
    "print(\"Classification report: {}\".format(classification_report(y_test,y_pred)))"
   ]
  },
  {
   "cell_type": "markdown",
   "id": "999050dc-1351-4866-9506-bdcb22e71760",
   "metadata": {},
   "source": [
    "#### GridSearch CV"
   ]
  },
  {
   "cell_type": "code",
   "execution_count": 65,
   "id": "48d141da-e6e2-4df2-a4a4-738f5baadccc",
   "metadata": {},
   "outputs": [
    {
     "data": {
      "text/plain": [
       "{'solver': 'saga', 'penalty': 'l1', 'max_iter': 1000, 'C': 10000.0}"
      ]
     },
     "execution_count": 65,
     "metadata": {},
     "output_type": "execute_result"
    }
   ],
   "source": [
    "rf_randomcv.best_params_"
   ]
  },
  {
   "cell_type": "code",
   "execution_count": 66,
   "id": "e39070a2-2a20-45be-830d-d5035366d2f9",
   "metadata": {},
   "outputs": [
    {
     "name": "stdout",
     "output_type": "stream",
     "text": [
      "{'solver': ['saga'], 'penalty': ['l1'], 'max_iter': [1000, 1200, 1400], 'C': [9999.8, 9999.9, 10000.0, 10000.1, 10000.2]}\n"
     ]
    }
   ],
   "source": [
    "from sklearn.model_selection import GridSearchCV\n",
    "\n",
    "param_grid = {\n",
    "    'solver': [rf_randomcv.best_params_['solver']],\n",
    "    'penalty': [rf_randomcv.best_params_['penalty']],\n",
    "    'max_iter': [rf_randomcv.best_params_['max_iter'], \n",
    "                         rf_randomcv.best_params_['max_iter']+200, \n",
    "                         rf_randomcv.best_params_['max_iter'] + 400],\n",
    "    'C': [rf_randomcv.best_params_['C'] - 0.2,\n",
    "                          rf_randomcv.best_params_['C'] - 0.1,\n",
    "                          rf_randomcv.best_params_['C'], \n",
    "                          rf_randomcv.best_params_['C'] + 0.1,\n",
    "                          rf_randomcv.best_params_['C'] + 0.2]\n",
    "}\n",
    "\n",
    "print(param_grid)"
   ]
  },
  {
   "cell_type": "code",
   "execution_count": 67,
   "id": "4be6f93c-7288-4911-95e8-cbc1eb549031",
   "metadata": {},
   "outputs": [
    {
     "name": "stdout",
     "output_type": "stream",
     "text": [
      "Fitting 10 folds for each of 15 candidates, totalling 150 fits\n"
     ]
    },
    {
     "name": "stderr",
     "output_type": "stream",
     "text": [
      "[Parallel(n_jobs=-1)]: Using backend LokyBackend with 4 concurrent workers.\n",
      "[Parallel(n_jobs=-1)]: Done 114 tasks      | elapsed:    0.5s\n",
      "[Parallel(n_jobs=-1)]: Done 150 out of 150 | elapsed:    0.7s finished\n"
     ]
    },
    {
     "data": {
      "text/plain": [
       "GridSearchCV(cv=10, estimator=LogisticRegression(), n_jobs=-1,\n",
       "             param_grid={'C': [9999.8, 9999.9, 10000.0, 10000.1, 10000.2],\n",
       "                         'max_iter': [1000, 1200, 1400], 'penalty': ['l1'],\n",
       "                         'solver': ['saga']},\n",
       "             verbose=2)"
      ]
     },
     "execution_count": 67,
     "metadata": {},
     "output_type": "execute_result"
    }
   ],
   "source": [
    "#### Fit the grid_search to the data\n",
    "dt=LogisticRegression()\n",
    "grid_search=GridSearchCV(estimator=dt,param_grid=param_grid,cv=10,n_jobs=-1,verbose=2)\n",
    "grid_search.fit(X_train,y_train)"
   ]
  },
  {
   "cell_type": "code",
   "execution_count": 68,
   "id": "dd073b2b-7ba4-46ec-a675-dea418fd10a1",
   "metadata": {},
   "outputs": [
    {
     "data": {
      "text/plain": [
       "LogisticRegression(C=9999.8, max_iter=1000, penalty='l1', solver='saga')"
      ]
     },
     "execution_count": 68,
     "metadata": {},
     "output_type": "execute_result"
    }
   ],
   "source": [
    "grid_search.best_estimator_"
   ]
  },
  {
   "cell_type": "code",
   "execution_count": 69,
   "id": "a1d1adec-d883-4d6f-aa30-70b3bdbe8027",
   "metadata": {},
   "outputs": [],
   "source": [
    "best_grid=grid_search.best_estimator_"
   ]
  },
  {
   "cell_type": "code",
   "execution_count": 70,
   "id": "9c39d5f5-df88-4531-b80f-04a5d3816a1a",
   "metadata": {},
   "outputs": [
    {
     "data": {
      "text/plain": [
       "LogisticRegression(C=9999.8, max_iter=1000, penalty='l1', solver='saga')"
      ]
     },
     "execution_count": 70,
     "metadata": {},
     "output_type": "execute_result"
    }
   ],
   "source": [
    "best_grid"
   ]
  },
  {
   "cell_type": "code",
   "execution_count": 71,
   "id": "eb9e085e-31c9-45df-803b-b307f21a3738",
   "metadata": {},
   "outputs": [
    {
     "name": "stdout",
     "output_type": "stream",
     "text": [
      "[[123   6]\n",
      " [ 35  28]]\n",
      "Accuracy Score 0.7864583333333334\n",
      "Classification report:               precision    recall  f1-score   support\n",
      "\n",
      "         0.0       0.78      0.95      0.86       129\n",
      "         1.0       0.82      0.44      0.58        63\n",
      "\n",
      "    accuracy                           0.79       192\n",
      "   macro avg       0.80      0.70      0.72       192\n",
      "weighted avg       0.79      0.79      0.77       192\n",
      "\n"
     ]
    }
   ],
   "source": [
    "y_pred=best_grid.predict(X_test)\n",
    "print(confusion_matrix(y_test,y_pred))\n",
    "print(\"Accuracy Score {}\".format(accuracy_score(y_test,y_pred)))\n",
    "print(\"Classification report: {}\".format(classification_report(y_test,y_pred)))"
   ]
  },
  {
   "cell_type": "markdown",
   "id": "ac35aaf3-f386-40ce-a8e0-b82f1a150a48",
   "metadata": {},
   "source": [
    "### Automated Hyperparameter Tuning\n",
    "Automated Hyperparameter Tuning can be done by using techniques such as \n",
    "- Bayesian Optimization\n",
    "- Gradient Descent\n",
    "- Evolutionary Algorithms"
   ]
  },
  {
   "cell_type": "markdown",
   "id": "9c3427d9-81e8-433f-a3c3-ac327506bda7",
   "metadata": {},
   "source": [
    "#### Bayesian Optimization\n",
    "Bayesian optimization uses probability to find the minimum of a function. The final aim is to find the input value to a function which can gives us the lowest possible output value.It usually performs better than random,grid and manual search providing better performance in the testing phase and reduced optimization time.\n",
    "In Hyperopt, Bayesian Optimization can be implemented giving 3 three main parameters to the function fmin.\n",
    "\n",
    "- Objective Function = defines the loss function to minimize.\n",
    "- Domain Space = defines the range of input values to test (in Bayesian Optimization this space creates a probability distribution for each of the used Hyperparameters).\n",
    "- Optimization Algorithm = defines the search algorithm to use to select the best input values to use in each new iteration."
   ]
  },
  {
   "cell_type": "code",
   "execution_count": 72,
   "id": "f88e333d-5a74-4e9a-9fd9-1b1071b13e71",
   "metadata": {},
   "outputs": [],
   "source": [
    "from hyperopt import hp,fmin,tpe,STATUS_OK,Trials"
   ]
  },
  {
   "cell_type": "code",
   "execution_count": 91,
   "id": "96af7fe2-997e-453e-9a9c-fe32efb67c52",
   "metadata": {},
   "outputs": [],
   "source": [
    "space = {'penalty': hp.choice('penalty', ['l1', 'l2', 'elasticnet', 'none']),\n",
    "        'solver': hp.choice('solver', ['lbfgs','newton-cg','liblinear','sag','saga']),\n",
    "        \"C\": hp.loguniform(\"C\", np.log(0.001), np.log(0.2)),\n",
    "    }"
   ]
  },
  {
   "cell_type": "code",
   "execution_count": 92,
   "id": "ca72abff-6400-49c0-a8e4-613d3cc7e733",
   "metadata": {},
   "outputs": [
    {
     "data": {
      "text/plain": [
       "{'penalty': <hyperopt.pyll.base.Apply at 0x20c1b4862b0>,\n",
       " 'solver': <hyperopt.pyll.base.Apply at 0x20c1b486460>,\n",
       " 'C': <hyperopt.pyll.base.Apply at 0x20c1b4869a0>}"
      ]
     },
     "execution_count": 92,
     "metadata": {},
     "output_type": "execute_result"
    }
   ],
   "source": [
    "space"
   ]
  },
  {
   "cell_type": "code",
   "execution_count": 93,
   "id": "86fcc745-3b08-4d11-843a-0169466180e0",
   "metadata": {},
   "outputs": [],
   "source": [
    "\n",
    "def objective(space):\n",
    "    model = LogisticRegression(penalty = space['penalty'],\n",
    "                                 solver = space['solver'],\n",
    "                                 C = space['C']\n",
    "                                 )\n",
    "    \n",
    "    accuracy = cross_val_score(model, X_train, y_train, cv = 5).mean()\n",
    "\n",
    "    # We aim to maximize accuracy, therefore we return it as a negative value\n",
    "    return {'loss': -accuracy, 'status': STATUS_OK }"
   ]
  },
  {
   "cell_type": "code",
   "execution_count": 94,
   "id": "75333345-db67-4e79-8f58-e71add06b015",
   "metadata": {},
   "outputs": [
    {
     "name": "stdout",
     "output_type": "stream",
     "text": [
      "100%|██████████| 80/80 [00:02<00:00, 34.40trial/s, best loss: -0.78729088639201]  \n"
     ]
    },
    {
     "data": {
      "text/plain": [
       "{'C': 0.009963791471050977, 'penalty': 3, 'solver': 0}"
      ]
     },
     "execution_count": 94,
     "metadata": {},
     "output_type": "execute_result"
    }
   ],
   "source": [
    "from sklearn.model_selection import cross_val_score\n",
    "trials = Trials()\n",
    "best = fmin(fn= objective,\n",
    "            space= space,\n",
    "            algo= tpe.suggest,\n",
    "            max_evals = 80,\n",
    "            trials= trials)\n",
    "best"
   ]
  },
  {
   "cell_type": "code",
   "execution_count": 96,
   "id": "8f9cfea8-4f2e-44d5-8e24-61a09bc0d415",
   "metadata": {},
   "outputs": [
    {
     "name": "stdout",
     "output_type": "stream",
     "text": [
      "none\n",
      "lbfgs\n"
     ]
    }
   ],
   "source": [
    "crit = {0: 'l1', 1: 'l2', 2: 'elasticnet', 3: 'none'}\n",
    "feat = {0: 'lbfgs', 1: 'newton-cg', 2: 'liblinear', 3: 'sag', 4:'saga'}\n",
    "\n",
    "\n",
    "print(crit[best['penalty']])\n",
    "print(feat[best['solver']])"
   ]
  },
  {
   "cell_type": "code",
   "execution_count": 97,
   "id": "c1893a51-2317-46a2-b762-2c90b9eb0f62",
   "metadata": {},
   "outputs": [
    {
     "data": {
      "text/plain": [
       "0.009963791471050977"
      ]
     },
     "execution_count": 97,
     "metadata": {},
     "output_type": "execute_result"
    }
   ],
   "source": [
    "best['C']"
   ]
  },
  {
   "cell_type": "code",
   "execution_count": 101,
   "id": "9a8f0be4-b0f1-4939-b5a8-d5358c2d6f06",
   "metadata": {},
   "outputs": [
    {
     "name": "stdout",
     "output_type": "stream",
     "text": [
      "[[123   6]\n",
      " [ 35  28]]\n",
      "0.7864583333333334\n",
      "              precision    recall  f1-score   support\n",
      "\n",
      "         0.0       0.78      0.95      0.86       129\n",
      "         1.0       0.82      0.44      0.58        63\n",
      "\n",
      "    accuracy                           0.79       192\n",
      "   macro avg       0.80      0.70      0.72       192\n",
      "weighted avg       0.79      0.79      0.77       192\n",
      "\n"
     ]
    }
   ],
   "source": [
    "trainedlogistic = LogisticRegression(penalty = crit[best['penalty']],solver = feat[best['solver']], C = best['C']).fit(X_train,y_train)\n",
    "predictionlogistic = trainedlogistic.predict(X_test)\n",
    "print(confusion_matrix(y_test,predictionlogistic))\n",
    "print(accuracy_score(y_test,predictionlogistic))\n",
    "print(classification_report(y_test,predictionlogistic))\n",
    "acc5 = accuracy_score(y_test,predictionlogistic)"
   ]
  },
  {
   "cell_type": "code",
   "execution_count": 108,
   "id": "85413abe-5288-4c0f-9340-2e0c1dd68a88",
   "metadata": {},
   "outputs": [
    {
     "data": {
      "text/plain": [
       "array([0., 0., 0., 0., 0., 0., 0., 0., 1., 0., 0., 1., 1., 0., 0., 0., 1.,\n",
       "       0., 0., 0., 0., 1., 0., 0., 0., 0., 0., 0., 0., 1., 0., 0., 0., 1.,\n",
       "       1., 1., 0., 0., 0., 0., 1., 0., 0., 0., 0., 0., 0., 0., 0., 0., 0.,\n",
       "       0., 0., 0., 0., 1., 0., 1., 0., 0., 0., 0., 0., 0., 0., 0., 0., 1.,\n",
       "       0., 0., 0., 0., 0., 0., 0., 0., 0., 1., 0., 0., 1., 0., 0., 0., 1.,\n",
       "       0., 0., 1., 0., 0., 0., 0., 0., 0., 0., 1., 1., 0., 0., 0.])"
      ]
     },
     "execution_count": 108,
     "metadata": {},
     "output_type": "execute_result"
    }
   ],
   "source": [
    "predictionlogistic[:100]"
   ]
  },
  {
   "cell_type": "code",
   "execution_count": 109,
   "id": "5ce644d5-6080-49fd-b351-b3fc1a8ab4b7",
   "metadata": {},
   "outputs": [],
   "source": [
    "# Converting y_pred to a dataframe which is an array\n",
    "y_pred_1 = pd.DataFrame(predictionlogistic)"
   ]
  },
  {
   "cell_type": "code",
   "execution_count": 110,
   "id": "aca92f32-a80f-4fb5-b500-b18dea85565f",
   "metadata": {},
   "outputs": [
    {
     "data": {
      "text/html": [
       "<div>\n",
       "<style scoped>\n",
       "    .dataframe tbody tr th:only-of-type {\n",
       "        vertical-align: middle;\n",
       "    }\n",
       "\n",
       "    .dataframe tbody tr th {\n",
       "        vertical-align: top;\n",
       "    }\n",
       "\n",
       "    .dataframe thead th {\n",
       "        text-align: right;\n",
       "    }\n",
       "</style>\n",
       "<table border=\"1\" class=\"dataframe\">\n",
       "  <thead>\n",
       "    <tr style=\"text-align: right;\">\n",
       "      <th></th>\n",
       "      <th>0</th>\n",
       "    </tr>\n",
       "  </thead>\n",
       "  <tbody>\n",
       "    <tr>\n",
       "      <th>0</th>\n",
       "      <td>0.0</td>\n",
       "    </tr>\n",
       "    <tr>\n",
       "      <th>1</th>\n",
       "      <td>0.0</td>\n",
       "    </tr>\n",
       "    <tr>\n",
       "      <th>2</th>\n",
       "      <td>0.0</td>\n",
       "    </tr>\n",
       "    <tr>\n",
       "      <th>3</th>\n",
       "      <td>0.0</td>\n",
       "    </tr>\n",
       "    <tr>\n",
       "      <th>4</th>\n",
       "      <td>0.0</td>\n",
       "    </tr>\n",
       "  </tbody>\n",
       "</table>\n",
       "</div>"
      ],
      "text/plain": [
       "     0\n",
       "0  0.0\n",
       "1  0.0\n",
       "2  0.0\n",
       "3  0.0\n",
       "4  0.0"
      ]
     },
     "execution_count": 110,
     "metadata": {},
     "output_type": "execute_result"
    }
   ],
   "source": [
    "# Let's see the head\n",
    "y_pred_1.head()"
   ]
  },
  {
   "cell_type": "code",
   "execution_count": 111,
   "id": "f024d74c-97d9-49e0-ab09-4ac26fd16507",
   "metadata": {},
   "outputs": [],
   "source": [
    "# Converting y_test to dataframe\n",
    "y_test_df = pd.DataFrame(y_test)"
   ]
  },
  {
   "cell_type": "code",
   "execution_count": 112,
   "id": "a60a9d02-91a7-4434-b67b-29d9eefd9747",
   "metadata": {},
   "outputs": [],
   "source": [
    "# Putting CustID to index\n",
    "y_test_df['ID'] = y_test_df.index"
   ]
  },
  {
   "cell_type": "code",
   "execution_count": 113,
   "id": "2995f196-2e5b-4b37-b688-2364cfc06d88",
   "metadata": {},
   "outputs": [],
   "source": [
    "# Removing index for both dataframes to append them side by side \n",
    "y_pred_1.reset_index(drop=True, inplace=True)\n",
    "y_test_df.reset_index(drop=True, inplace=True)"
   ]
  },
  {
   "cell_type": "code",
   "execution_count": 114,
   "id": "5949cb16-f227-4d5f-8564-e3037c853433",
   "metadata": {},
   "outputs": [],
   "source": [
    "# Appending y_test_df and y_pred_1\n",
    "y_pred_final = pd.concat([y_test_df, y_pred_1],axis=1)"
   ]
  },
  {
   "cell_type": "code",
   "execution_count": 115,
   "id": "6cec582e-1e57-4e35-af95-22ccffccf5fd",
   "metadata": {},
   "outputs": [
    {
     "data": {
      "text/html": [
       "<div>\n",
       "<style scoped>\n",
       "    .dataframe tbody tr th:only-of-type {\n",
       "        vertical-align: middle;\n",
       "    }\n",
       "\n",
       "    .dataframe tbody tr th {\n",
       "        vertical-align: top;\n",
       "    }\n",
       "\n",
       "    .dataframe thead th {\n",
       "        text-align: right;\n",
       "    }\n",
       "</style>\n",
       "<table border=\"1\" class=\"dataframe\">\n",
       "  <thead>\n",
       "    <tr style=\"text-align: right;\">\n",
       "      <th></th>\n",
       "      <th>Outcome</th>\n",
       "      <th>ID</th>\n",
       "      <th>0</th>\n",
       "    </tr>\n",
       "  </thead>\n",
       "  <tbody>\n",
       "    <tr>\n",
       "      <th>0</th>\n",
       "      <td>0.0</td>\n",
       "      <td>183</td>\n",
       "      <td>0.0</td>\n",
       "    </tr>\n",
       "    <tr>\n",
       "      <th>1</th>\n",
       "      <td>0.0</td>\n",
       "      <td>481</td>\n",
       "      <td>0.0</td>\n",
       "    </tr>\n",
       "    <tr>\n",
       "      <th>2</th>\n",
       "      <td>1.0</td>\n",
       "      <td>93</td>\n",
       "      <td>0.0</td>\n",
       "    </tr>\n",
       "    <tr>\n",
       "      <th>3</th>\n",
       "      <td>1.0</td>\n",
       "      <td>510</td>\n",
       "      <td>0.0</td>\n",
       "    </tr>\n",
       "    <tr>\n",
       "      <th>4</th>\n",
       "      <td>0.0</td>\n",
       "      <td>311</td>\n",
       "      <td>0.0</td>\n",
       "    </tr>\n",
       "  </tbody>\n",
       "</table>\n",
       "</div>"
      ],
      "text/plain": [
       "   Outcome   ID    0\n",
       "0      0.0  183  0.0\n",
       "1      0.0  481  0.0\n",
       "2      1.0   93  0.0\n",
       "3      1.0  510  0.0\n",
       "4      0.0  311  0.0"
      ]
     },
     "execution_count": 115,
     "metadata": {},
     "output_type": "execute_result"
    }
   ],
   "source": [
    "y_pred_final.head()"
   ]
  },
  {
   "cell_type": "code",
   "execution_count": 116,
   "id": "cb71a256-61d3-4063-8495-02a9d7ec82ae",
   "metadata": {},
   "outputs": [],
   "source": [
    "y_pred_final = y_pred_final.rename(columns={0:\"Diabetes_Probability\"})"
   ]
  },
  {
   "cell_type": "code",
   "execution_count": 117,
   "id": "77930876-7d60-4489-96f0-bd8cf1f2d24d",
   "metadata": {},
   "outputs": [
    {
     "data": {
      "text/html": [
       "<div>\n",
       "<style scoped>\n",
       "    .dataframe tbody tr th:only-of-type {\n",
       "        vertical-align: middle;\n",
       "    }\n",
       "\n",
       "    .dataframe tbody tr th {\n",
       "        vertical-align: top;\n",
       "    }\n",
       "\n",
       "    .dataframe thead th {\n",
       "        text-align: right;\n",
       "    }\n",
       "</style>\n",
       "<table border=\"1\" class=\"dataframe\">\n",
       "  <thead>\n",
       "    <tr style=\"text-align: right;\">\n",
       "      <th></th>\n",
       "      <th>Outcome</th>\n",
       "      <th>ID</th>\n",
       "      <th>Diabetes_Probability</th>\n",
       "    </tr>\n",
       "  </thead>\n",
       "  <tbody>\n",
       "    <tr>\n",
       "      <th>0</th>\n",
       "      <td>0.0</td>\n",
       "      <td>183</td>\n",
       "      <td>0.0</td>\n",
       "    </tr>\n",
       "    <tr>\n",
       "      <th>1</th>\n",
       "      <td>0.0</td>\n",
       "      <td>481</td>\n",
       "      <td>0.0</td>\n",
       "    </tr>\n",
       "    <tr>\n",
       "      <th>2</th>\n",
       "      <td>1.0</td>\n",
       "      <td>93</td>\n",
       "      <td>0.0</td>\n",
       "    </tr>\n",
       "    <tr>\n",
       "      <th>3</th>\n",
       "      <td>1.0</td>\n",
       "      <td>510</td>\n",
       "      <td>0.0</td>\n",
       "    </tr>\n",
       "  </tbody>\n",
       "</table>\n",
       "</div>"
      ],
      "text/plain": [
       "   Outcome   ID  Diabetes_Probability\n",
       "0      0.0  183                   0.0\n",
       "1      0.0  481                   0.0\n",
       "2      1.0   93                   0.0\n",
       "3      1.0  510                   0.0"
      ]
     },
     "execution_count": 117,
     "metadata": {},
     "output_type": "execute_result"
    }
   ],
   "source": [
    "y_pred_final.head(4)"
   ]
  },
  {
   "cell_type": "code",
   "execution_count": 118,
   "id": "b116625b-7c9d-448b-bbf3-41aff1ddb33a",
   "metadata": {},
   "outputs": [
    {
     "data": {
      "text/plain": [
       "0.0    158\n",
       "1.0     34\n",
       "Name: Diabetes_Probability, dtype: int64"
      ]
     },
     "execution_count": 118,
     "metadata": {},
     "output_type": "execute_result"
    }
   ],
   "source": [
    "y_pred_final.Diabetes_Probability.value_counts()"
   ]
  },
  {
   "cell_type": "code",
   "execution_count": null,
   "id": "140d3fcf-bd77-4e1f-aa59-9a020d6fa062",
   "metadata": {},
   "outputs": [],
   "source": []
  },
  {
   "cell_type": "code",
   "execution_count": null,
   "id": "219f4dac-a35c-4dd9-93a7-5e3f2cececcd",
   "metadata": {},
   "outputs": [],
   "source": []
  }
 ],
 "metadata": {
  "kernelspec": {
   "display_name": "Python 3",
   "language": "python",
   "name": "python3"
  },
  "language_info": {
   "codemirror_mode": {
    "name": "ipython",
    "version": 3
   },
   "file_extension": ".py",
   "mimetype": "text/x-python",
   "name": "python",
   "nbconvert_exporter": "python",
   "pygments_lexer": "ipython3",
   "version": "3.8.8"
  }
 },
 "nbformat": 4,
 "nbformat_minor": 5
}
