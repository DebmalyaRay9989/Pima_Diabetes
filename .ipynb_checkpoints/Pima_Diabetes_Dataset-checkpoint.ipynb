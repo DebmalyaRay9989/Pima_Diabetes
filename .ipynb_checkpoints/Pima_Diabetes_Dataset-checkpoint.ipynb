{
 "cells": [
  {
   "cell_type": "code",
   "execution_count": 1,
   "metadata": {
    "id": "LrESJrfcE31j"
   },
   "outputs": [],
   "source": [
    "from sklearn.datasets import load_iris\n",
    "from sklearn.model_selection import train_test_split\n",
    "from sklearn.preprocessing import StandardScaler\n",
    "from sklearn.decomposition import PCA\n",
    "from sklearn.pipeline import Pipeline\n",
    "from sklearn.linear_model import LogisticRegression\n",
    "from sklearn.tree import DecisionTreeClassifier\n",
    "from sklearn.ensemble import RandomForestClassifier\n",
    "from xgboost import XGBClassifier"
   ]
  },
  {
   "cell_type": "code",
   "execution_count": 2,
   "metadata": {
    "id": "lmCz6TKtGqhq"
   },
   "outputs": [],
   "source": [
    "# Suppressing Warnings\n",
    "import warnings\n",
    "warnings.filterwarnings('ignore')"
   ]
  },
  {
   "cell_type": "code",
   "execution_count": 3,
   "metadata": {
    "id": "bIRlrgwgGwYN"
   },
   "outputs": [],
   "source": [
    "# Importing Pandas and NumPy\n",
    "import pandas as pd, numpy as np"
   ]
  },
  {
   "cell_type": "code",
   "execution_count": 5,
   "metadata": {
    "colab": {
     "base_uri": "https://localhost:8080/",
     "height": 173
    },
    "id": "hGkKnuQUGywp",
    "outputId": "866da41d-a36f-49e9-b1cf-bff949be517e"
   },
   "outputs": [
    {
     "data": {
      "text/html": [
       "<div>\n",
       "<style scoped>\n",
       "    .dataframe tbody tr th:only-of-type {\n",
       "        vertical-align: middle;\n",
       "    }\n",
       "\n",
       "    .dataframe tbody tr th {\n",
       "        vertical-align: top;\n",
       "    }\n",
       "\n",
       "    .dataframe thead th {\n",
       "        text-align: right;\n",
       "    }\n",
       "</style>\n",
       "<table border=\"1\" class=\"dataframe\">\n",
       "  <thead>\n",
       "    <tr style=\"text-align: right;\">\n",
       "      <th></th>\n",
       "      <th>No_Times_Pregnant</th>\n",
       "      <th>Plasma_Glucose</th>\n",
       "      <th>Diastolic_BP</th>\n",
       "      <th>Triceps</th>\n",
       "      <th>Insulin</th>\n",
       "      <th>BMI</th>\n",
       "      <th>Age</th>\n",
       "      <th>Diabetes</th>\n",
       "    </tr>\n",
       "  </thead>\n",
       "  <tbody>\n",
       "    <tr>\n",
       "      <th>0</th>\n",
       "      <td>1</td>\n",
       "      <td>89</td>\n",
       "      <td>66</td>\n",
       "      <td>23</td>\n",
       "      <td>94</td>\n",
       "      <td>28.1</td>\n",
       "      <td>21</td>\n",
       "      <td>0</td>\n",
       "    </tr>\n",
       "    <tr>\n",
       "      <th>1</th>\n",
       "      <td>0</td>\n",
       "      <td>137</td>\n",
       "      <td>40</td>\n",
       "      <td>35</td>\n",
       "      <td>168</td>\n",
       "      <td>43.1</td>\n",
       "      <td>33</td>\n",
       "      <td>1</td>\n",
       "    </tr>\n",
       "    <tr>\n",
       "      <th>2</th>\n",
       "      <td>3</td>\n",
       "      <td>78</td>\n",
       "      <td>50</td>\n",
       "      <td>32</td>\n",
       "      <td>88</td>\n",
       "      <td>31.0</td>\n",
       "      <td>26</td>\n",
       "      <td>1</td>\n",
       "    </tr>\n",
       "    <tr>\n",
       "      <th>3</th>\n",
       "      <td>2</td>\n",
       "      <td>197</td>\n",
       "      <td>70</td>\n",
       "      <td>45</td>\n",
       "      <td>543</td>\n",
       "      <td>30.5</td>\n",
       "      <td>53</td>\n",
       "      <td>1</td>\n",
       "    </tr>\n",
       "  </tbody>\n",
       "</table>\n",
       "</div>"
      ],
      "text/plain": [
       "   No_Times_Pregnant  Plasma_Glucose  Diastolic_BP  ...   BMI  Age  Diabetes\n",
       "0                  1              89            66  ...  28.1   21         0\n",
       "1                  0             137            40  ...  43.1   33         1\n",
       "2                  3              78            50  ...  31.0   26         1\n",
       "3                  2             197            70  ...  30.5   53         1\n",
       "\n",
       "[4 rows x 8 columns]"
      ]
     },
     "execution_count": 5,
     "metadata": {},
     "output_type": "execute_result"
    }
   ],
   "source": [
    "# Importing all datasets\n",
    "diabetes = pd.read_csv(\"/content/sample_data/pima_indian_diabetes.csv\")\n",
    "diabetes.head(4)"
   ]
  },
  {
   "cell_type": "code",
   "execution_count": 6,
   "metadata": {
    "colab": {
     "base_uri": "https://localhost:8080/"
    },
    "id": "QDwRXEWZG2Ic",
    "outputId": "6a8759de-f8af-4fbe-f1e8-d3f3be2f9f67"
   },
   "outputs": [
    {
     "data": {
      "text/plain": [
       "No_Times_Pregnant      int64\n",
       "Plasma_Glucose         int64\n",
       "Diastolic_BP           int64\n",
       "Triceps                int64\n",
       "Insulin                int64\n",
       "BMI                  float64\n",
       "Age                    int64\n",
       "Diabetes               int64\n",
       "dtype: object"
      ]
     },
     "execution_count": 6,
     "metadata": {},
     "output_type": "execute_result"
    }
   ],
   "source": [
    "diabetes.dtypes"
   ]
  },
  {
   "cell_type": "code",
   "execution_count": 7,
   "metadata": {
    "colab": {
     "base_uri": "https://localhost:8080/"
    },
    "id": "WLR1M8wmG8v3",
    "outputId": "0ade3817-eae6-40d3-a38a-344efa2024f6"
   },
   "outputs": [
    {
     "name": "stdout",
     "output_type": "stream",
     "text": [
      "<class 'pandas.core.frame.DataFrame'>\n",
      "RangeIndex: 392 entries, 0 to 391\n",
      "Data columns (total 8 columns):\n",
      " #   Column             Non-Null Count  Dtype  \n",
      "---  ------             --------------  -----  \n",
      " 0   No_Times_Pregnant  392 non-null    int64  \n",
      " 1   Plasma_Glucose     392 non-null    int64  \n",
      " 2   Diastolic_BP       392 non-null    int64  \n",
      " 3   Triceps            392 non-null    int64  \n",
      " 4   Insulin            392 non-null    int64  \n",
      " 5   BMI                392 non-null    float64\n",
      " 6   Age                392 non-null    int64  \n",
      " 7   Diabetes           392 non-null    int64  \n",
      "dtypes: float64(1), int64(7)\n",
      "memory usage: 24.6 KB\n"
     ]
    }
   ],
   "source": [
    "diabetes.info()"
   ]
  },
  {
   "cell_type": "code",
   "execution_count": 8,
   "metadata": {
    "colab": {
     "base_uri": "https://localhost:8080/"
    },
    "id": "UndEYN_BHD3n",
    "outputId": "291d0671-92ba-4b3a-ae67-d91032633be5"
   },
   "outputs": [
    {
     "data": {
      "text/plain": [
       "Index(['No_Times_Pregnant', 'Plasma_Glucose', 'Diastolic_BP', 'Triceps',\n",
       "       'Insulin', 'BMI', 'Age', 'Diabetes'],\n",
       "      dtype='object')"
      ]
     },
     "execution_count": 8,
     "metadata": {},
     "output_type": "execute_result"
    }
   ],
   "source": [
    "diabetes.columns"
   ]
  },
  {
   "cell_type": "markdown",
   "metadata": {
    "id": "LCdJP9kqHPn1"
   },
   "source": [
    "### Rescaling the Features"
   ]
  },
  {
   "cell_type": "code",
   "execution_count": 9,
   "metadata": {
    "id": "JtaqAC2CHMyV"
   },
   "outputs": [],
   "source": [
    "from sklearn.preprocessing import MinMaxScaler\n",
    "scaler = MinMaxScaler()"
   ]
  },
  {
   "cell_type": "code",
   "execution_count": 11,
   "metadata": {
    "colab": {
     "base_uri": "https://localhost:8080/",
     "height": 204
    },
    "id": "ErNBYFntHeFd",
    "outputId": "677d6b41-85fd-4f03-dafd-19224ef23697"
   },
   "outputs": [
    {
     "data": {
      "text/html": [
       "<div>\n",
       "<style scoped>\n",
       "    .dataframe tbody tr th:only-of-type {\n",
       "        vertical-align: middle;\n",
       "    }\n",
       "\n",
       "    .dataframe tbody tr th {\n",
       "        vertical-align: top;\n",
       "    }\n",
       "\n",
       "    .dataframe thead th {\n",
       "        text-align: right;\n",
       "    }\n",
       "</style>\n",
       "<table border=\"1\" class=\"dataframe\">\n",
       "  <thead>\n",
       "    <tr style=\"text-align: right;\">\n",
       "      <th></th>\n",
       "      <th>No_Times_Pregnant</th>\n",
       "      <th>Plasma_Glucose</th>\n",
       "      <th>Diastolic_BP</th>\n",
       "      <th>Triceps</th>\n",
       "      <th>Insulin</th>\n",
       "      <th>BMI</th>\n",
       "      <th>Age</th>\n",
       "      <th>Diabetes</th>\n",
       "    </tr>\n",
       "  </thead>\n",
       "  <tbody>\n",
       "    <tr>\n",
       "      <th>0</th>\n",
       "      <td>0.058824</td>\n",
       "      <td>0.232394</td>\n",
       "      <td>0.488372</td>\n",
       "      <td>0.285714</td>\n",
       "      <td>0.096154</td>\n",
       "      <td>0.202454</td>\n",
       "      <td>0.000000</td>\n",
       "      <td>0.0</td>\n",
       "    </tr>\n",
       "    <tr>\n",
       "      <th>1</th>\n",
       "      <td>0.000000</td>\n",
       "      <td>0.570423</td>\n",
       "      <td>0.186047</td>\n",
       "      <td>0.500000</td>\n",
       "      <td>0.185096</td>\n",
       "      <td>0.509202</td>\n",
       "      <td>0.200000</td>\n",
       "      <td>1.0</td>\n",
       "    </tr>\n",
       "    <tr>\n",
       "      <th>2</th>\n",
       "      <td>0.176471</td>\n",
       "      <td>0.154930</td>\n",
       "      <td>0.302326</td>\n",
       "      <td>0.446429</td>\n",
       "      <td>0.088942</td>\n",
       "      <td>0.261759</td>\n",
       "      <td>0.083333</td>\n",
       "      <td>1.0</td>\n",
       "    </tr>\n",
       "    <tr>\n",
       "      <th>3</th>\n",
       "      <td>0.117647</td>\n",
       "      <td>0.992958</td>\n",
       "      <td>0.534884</td>\n",
       "      <td>0.678571</td>\n",
       "      <td>0.635817</td>\n",
       "      <td>0.251534</td>\n",
       "      <td>0.533333</td>\n",
       "      <td>1.0</td>\n",
       "    </tr>\n",
       "    <tr>\n",
       "      <th>4</th>\n",
       "      <td>0.058824</td>\n",
       "      <td>0.936620</td>\n",
       "      <td>0.418605</td>\n",
       "      <td>0.285714</td>\n",
       "      <td>1.000000</td>\n",
       "      <td>0.243354</td>\n",
       "      <td>0.633333</td>\n",
       "      <td>1.0</td>\n",
       "    </tr>\n",
       "  </tbody>\n",
       "</table>\n",
       "</div>"
      ],
      "text/plain": [
       "   No_Times_Pregnant  Plasma_Glucose  ...       Age  Diabetes\n",
       "0           0.058824        0.232394  ...  0.000000       0.0\n",
       "1           0.000000        0.570423  ...  0.200000       1.0\n",
       "2           0.176471        0.154930  ...  0.083333       1.0\n",
       "3           0.117647        0.992958  ...  0.533333       1.0\n",
       "4           0.058824        0.936620  ...  0.633333       1.0\n",
       "\n",
       "[5 rows x 8 columns]"
      ]
     },
     "execution_count": 11,
     "metadata": {},
     "output_type": "execute_result"
    }
   ],
   "source": [
    "# Apply scaler() to all the columns except the 'yes-no' and 'dummy' variables\n",
    "num_vars = ['No_Times_Pregnant', 'Plasma_Glucose', 'Diastolic_BP', 'Triceps',\n",
    "       'Insulin', 'BMI', 'Age', 'Diabetes']\n",
    "\n",
    "diabetes[num_vars] = scaler.fit_transform(diabetes[num_vars])\n",
    "\n",
    "diabetes.head()"
   ]
  },
  {
   "cell_type": "code",
   "execution_count": 12,
   "metadata": {
    "id": "4bYczKzvHqZC"
   },
   "outputs": [],
   "source": [
    "## Checking for Outliers"
   ]
  },
  {
   "cell_type": "code",
   "execution_count": 14,
   "metadata": {
    "id": "iDdVg0FEHv6p"
   },
   "outputs": [],
   "source": [
    "# Checking for outliers in the continuous variables\n",
    "num_diabetes = diabetes[['No_Times_Pregnant', 'Plasma_Glucose', 'Diastolic_BP', 'Triceps',\n",
    "       'Insulin', 'BMI', 'Age', 'Diabetes']]"
   ]
  },
  {
   "cell_type": "code",
   "execution_count": 15,
   "metadata": {
    "colab": {
     "base_uri": "https://localhost:8080/",
     "height": 390
    },
    "id": "83fxD-7UH_x2",
    "outputId": "8d4b2438-e9f2-4f6f-e41f-c946f3c9ed72"
   },
   "outputs": [
    {
     "data": {
      "text/html": [
       "<div>\n",
       "<style scoped>\n",
       "    .dataframe tbody tr th:only-of-type {\n",
       "        vertical-align: middle;\n",
       "    }\n",
       "\n",
       "    .dataframe tbody tr th {\n",
       "        vertical-align: top;\n",
       "    }\n",
       "\n",
       "    .dataframe thead th {\n",
       "        text-align: right;\n",
       "    }\n",
       "</style>\n",
       "<table border=\"1\" class=\"dataframe\">\n",
       "  <thead>\n",
       "    <tr style=\"text-align: right;\">\n",
       "      <th></th>\n",
       "      <th>No_Times_Pregnant</th>\n",
       "      <th>Plasma_Glucose</th>\n",
       "      <th>Diastolic_BP</th>\n",
       "      <th>Triceps</th>\n",
       "      <th>Insulin</th>\n",
       "      <th>BMI</th>\n",
       "      <th>Age</th>\n",
       "      <th>Diabetes</th>\n",
       "    </tr>\n",
       "  </thead>\n",
       "  <tbody>\n",
       "    <tr>\n",
       "      <th>count</th>\n",
       "      <td>392.000000</td>\n",
       "      <td>392.000000</td>\n",
       "      <td>392.000000</td>\n",
       "      <td>392.000000</td>\n",
       "      <td>392.000000</td>\n",
       "      <td>392.000000</td>\n",
       "      <td>392.000000</td>\n",
       "      <td>392.000000</td>\n",
       "    </tr>\n",
       "    <tr>\n",
       "      <th>mean</th>\n",
       "      <td>0.194178</td>\n",
       "      <td>0.469208</td>\n",
       "      <td>0.542596</td>\n",
       "      <td>0.395454</td>\n",
       "      <td>0.170741</td>\n",
       "      <td>0.304422</td>\n",
       "      <td>0.164413</td>\n",
       "      <td>0.331633</td>\n",
       "    </tr>\n",
       "    <tr>\n",
       "      <th>std</th>\n",
       "      <td>0.188907</td>\n",
       "      <td>0.217329</td>\n",
       "      <td>0.145303</td>\n",
       "      <td>0.187793</td>\n",
       "      <td>0.142839</td>\n",
       "      <td>0.143715</td>\n",
       "      <td>0.170013</td>\n",
       "      <td>0.471401</td>\n",
       "    </tr>\n",
       "    <tr>\n",
       "      <th>min</th>\n",
       "      <td>0.000000</td>\n",
       "      <td>0.000000</td>\n",
       "      <td>0.000000</td>\n",
       "      <td>0.000000</td>\n",
       "      <td>0.000000</td>\n",
       "      <td>0.000000</td>\n",
       "      <td>0.000000</td>\n",
       "      <td>0.000000</td>\n",
       "    </tr>\n",
       "    <tr>\n",
       "      <th>25%</th>\n",
       "      <td>0.058824</td>\n",
       "      <td>0.302817</td>\n",
       "      <td>0.441860</td>\n",
       "      <td>0.250000</td>\n",
       "      <td>0.075421</td>\n",
       "      <td>0.208589</td>\n",
       "      <td>0.033333</td>\n",
       "      <td>0.000000</td>\n",
       "    </tr>\n",
       "    <tr>\n",
       "      <th>50%</th>\n",
       "      <td>0.117647</td>\n",
       "      <td>0.443662</td>\n",
       "      <td>0.534884</td>\n",
       "      <td>0.392857</td>\n",
       "      <td>0.134014</td>\n",
       "      <td>0.306748</td>\n",
       "      <td>0.100000</td>\n",
       "      <td>0.000000</td>\n",
       "    </tr>\n",
       "    <tr>\n",
       "      <th>75%</th>\n",
       "      <td>0.294118</td>\n",
       "      <td>0.612676</td>\n",
       "      <td>0.627907</td>\n",
       "      <td>0.535714</td>\n",
       "      <td>0.211538</td>\n",
       "      <td>0.386503</td>\n",
       "      <td>0.250000</td>\n",
       "      <td>1.000000</td>\n",
       "    </tr>\n",
       "    <tr>\n",
       "      <th>90%</th>\n",
       "      <td>0.470588</td>\n",
       "      <td>0.809155</td>\n",
       "      <td>0.720930</td>\n",
       "      <td>0.642857</td>\n",
       "      <td>0.335096</td>\n",
       "      <td>0.488139</td>\n",
       "      <td>0.416667</td>\n",
       "      <td>1.000000</td>\n",
       "    </tr>\n",
       "    <tr>\n",
       "      <th>95%</th>\n",
       "      <td>0.588235</td>\n",
       "      <td>0.880282</td>\n",
       "      <td>0.767442</td>\n",
       "      <td>0.704464</td>\n",
       "      <td>0.459736</td>\n",
       "      <td>0.553067</td>\n",
       "      <td>0.524167</td>\n",
       "      <td>1.000000</td>\n",
       "    </tr>\n",
       "    <tr>\n",
       "      <th>99%</th>\n",
       "      <td>0.764706</td>\n",
       "      <td>0.985915</td>\n",
       "      <td>0.911163</td>\n",
       "      <td>0.803571</td>\n",
       "      <td>0.681358</td>\n",
       "      <td>0.719059</td>\n",
       "      <td>0.650000</td>\n",
       "      <td>1.000000</td>\n",
       "    </tr>\n",
       "    <tr>\n",
       "      <th>max</th>\n",
       "      <td>1.000000</td>\n",
       "      <td>1.000000</td>\n",
       "      <td>1.000000</td>\n",
       "      <td>1.000000</td>\n",
       "      <td>1.000000</td>\n",
       "      <td>1.000000</td>\n",
       "      <td>1.000000</td>\n",
       "      <td>1.000000</td>\n",
       "    </tr>\n",
       "  </tbody>\n",
       "</table>\n",
       "</div>"
      ],
      "text/plain": [
       "       No_Times_Pregnant  Plasma_Glucose  ...         Age    Diabetes\n",
       "count         392.000000      392.000000  ...  392.000000  392.000000\n",
       "mean            0.194178        0.469208  ...    0.164413    0.331633\n",
       "std             0.188907        0.217329  ...    0.170013    0.471401\n",
       "min             0.000000        0.000000  ...    0.000000    0.000000\n",
       "25%             0.058824        0.302817  ...    0.033333    0.000000\n",
       "50%             0.117647        0.443662  ...    0.100000    0.000000\n",
       "75%             0.294118        0.612676  ...    0.250000    1.000000\n",
       "90%             0.470588        0.809155  ...    0.416667    1.000000\n",
       "95%             0.588235        0.880282  ...    0.524167    1.000000\n",
       "99%             0.764706        0.985915  ...    0.650000    1.000000\n",
       "max             1.000000        1.000000  ...    1.000000    1.000000\n",
       "\n",
       "[11 rows x 8 columns]"
      ]
     },
     "execution_count": 15,
     "metadata": {},
     "output_type": "execute_result"
    }
   ],
   "source": [
    "# Checking outliers at 25%, 50%, 75%, 90%, 95% and 99%\n",
    "num_diabetes.describe(percentiles=[.25, .5, .75, .90, .95, .99])"
   ]
  },
  {
   "cell_type": "code",
   "execution_count": 16,
   "metadata": {
    "colab": {
     "base_uri": "https://localhost:8080/"
    },
    "id": "PGygVvX7IF6j",
    "outputId": "4a9ee673-0e3b-4c0d-ffbc-62ef85d19dc0"
   },
   "outputs": [
    {
     "name": "stdout",
     "output_type": "stream",
     "text": [
      "No_Times_Pregnant    0.235294\n",
      "Plasma_Glucose       0.309859\n",
      "Diastolic_BP         0.186047\n",
      "Triceps              0.285714\n",
      "Insulin              0.136118\n",
      "BMI                  0.177914\n",
      "Age                  0.216667\n",
      "Diabetes             1.000000\n",
      "dtype: float64\n"
     ]
    }
   ],
   "source": [
    "Q1 = num_diabetes.quantile(0.25)\n",
    "Q3 = num_diabetes.quantile(0.75)\n",
    "IQR = Q3 - Q1\n",
    "print(IQR)"
   ]
  },
  {
   "cell_type": "code",
   "execution_count": 17,
   "metadata": {
    "id": "rvKHC0EgIIrY"
   },
   "outputs": [],
   "source": [
    "### Quantile-based Flooring and Capping"
   ]
  },
  {
   "cell_type": "code",
   "execution_count": 18,
   "metadata": {
    "colab": {
     "base_uri": "https://localhost:8080/"
    },
    "id": "wInxOOhoIKR8",
    "outputId": "ee1e1f8b-90f1-4013-e226-289eb94c0a17"
   },
   "outputs": [
    {
     "name": "stdout",
     "output_type": "stream",
     "text": [
      "No_Times_Pregnant    0.000000\n",
      "Plasma_Glucose       0.176056\n",
      "Diastolic_BP         0.302326\n",
      "Triceps              0.107143\n",
      "Insulin              0.034315\n",
      "BMI                  0.082924\n",
      "Age                  0.000000\n",
      "Diabetes             0.000000\n",
      "Name: 0.05, dtype: float64\n",
      "No_Times_Pregnant    0.588235\n",
      "Plasma_Glucose       0.880282\n",
      "Diastolic_BP         0.767442\n",
      "Triceps              0.704464\n",
      "Insulin              0.459736\n",
      "BMI                  0.553067\n",
      "Age                  0.524167\n",
      "Diabetes             1.000000\n",
      "Name: 0.95, dtype: float64\n"
     ]
    }
   ],
   "source": [
    "print(diabetes.quantile(0.05))\n",
    "print(diabetes.quantile(0.95))"
   ]
  },
  {
   "cell_type": "code",
   "execution_count": 19,
   "metadata": {
    "colab": {
     "base_uri": "https://localhost:8080/"
    },
    "id": "Ucoa_1cmIOhM",
    "outputId": "1dce8e6a-ca88-46b9-a5c9-76eda99f61d2"
   },
   "outputs": [
    {
     "name": "stdout",
     "output_type": "stream",
     "text": [
      "(332, 8)\n"
     ]
    }
   ],
   "source": [
    "diabetes = diabetes[~((diabetes < (Q1 - 1.5 * IQR)) | (diabetes > (Q3 + 1.5 * IQR))).any(axis=1)]\n",
    "print(diabetes.shape)"
   ]
  },
  {
   "cell_type": "code",
   "execution_count": 20,
   "metadata": {
    "id": "yBMNDZ-QISEI"
   },
   "outputs": [],
   "source": [
    "### Test-Train Split"
   ]
  },
  {
   "cell_type": "code",
   "execution_count": 21,
   "metadata": {
    "id": "ommCYlMlIUcZ"
   },
   "outputs": [],
   "source": [
    "from sklearn.model_selection import train_test_split"
   ]
  },
  {
   "cell_type": "code",
   "execution_count": 22,
   "metadata": {
    "colab": {
     "base_uri": "https://localhost:8080/",
     "height": 142
    },
    "id": "c6GgDbW6IU-q",
    "outputId": "9d5aa095-de4f-4fc5-f198-000b333f34bc"
   },
   "outputs": [
    {
     "data": {
      "text/html": [
       "<div>\n",
       "<style scoped>\n",
       "    .dataframe tbody tr th:only-of-type {\n",
       "        vertical-align: middle;\n",
       "    }\n",
       "\n",
       "    .dataframe tbody tr th {\n",
       "        vertical-align: top;\n",
       "    }\n",
       "\n",
       "    .dataframe thead th {\n",
       "        text-align: right;\n",
       "    }\n",
       "</style>\n",
       "<table border=\"1\" class=\"dataframe\">\n",
       "  <thead>\n",
       "    <tr style=\"text-align: right;\">\n",
       "      <th></th>\n",
       "      <th>No_Times_Pregnant</th>\n",
       "      <th>Plasma_Glucose</th>\n",
       "      <th>Diastolic_BP</th>\n",
       "      <th>Triceps</th>\n",
       "      <th>Insulin</th>\n",
       "      <th>BMI</th>\n",
       "      <th>Age</th>\n",
       "      <th>Diabetes</th>\n",
       "    </tr>\n",
       "  </thead>\n",
       "  <tbody>\n",
       "    <tr>\n",
       "      <th>0</th>\n",
       "      <td>0.058824</td>\n",
       "      <td>0.232394</td>\n",
       "      <td>0.488372</td>\n",
       "      <td>0.285714</td>\n",
       "      <td>0.096154</td>\n",
       "      <td>0.202454</td>\n",
       "      <td>0.000000</td>\n",
       "      <td>0.0</td>\n",
       "    </tr>\n",
       "    <tr>\n",
       "      <th>1</th>\n",
       "      <td>0.000000</td>\n",
       "      <td>0.570423</td>\n",
       "      <td>0.186047</td>\n",
       "      <td>0.500000</td>\n",
       "      <td>0.185096</td>\n",
       "      <td>0.509202</td>\n",
       "      <td>0.200000</td>\n",
       "      <td>1.0</td>\n",
       "    </tr>\n",
       "    <tr>\n",
       "      <th>2</th>\n",
       "      <td>0.176471</td>\n",
       "      <td>0.154930</td>\n",
       "      <td>0.302326</td>\n",
       "      <td>0.446429</td>\n",
       "      <td>0.088942</td>\n",
       "      <td>0.261759</td>\n",
       "      <td>0.083333</td>\n",
       "      <td>1.0</td>\n",
       "    </tr>\n",
       "  </tbody>\n",
       "</table>\n",
       "</div>"
      ],
      "text/plain": [
       "   No_Times_Pregnant  Plasma_Glucose  ...       Age  Diabetes\n",
       "0           0.058824        0.232394  ...  0.000000       0.0\n",
       "1           0.000000        0.570423  ...  0.200000       1.0\n",
       "2           0.176471        0.154930  ...  0.083333       1.0\n",
       "\n",
       "[3 rows x 8 columns]"
      ]
     },
     "execution_count": 22,
     "metadata": {},
     "output_type": "execute_result"
    }
   ],
   "source": [
    "diabetes.head(3)"
   ]
  },
  {
   "cell_type": "code",
   "execution_count": 24,
   "metadata": {
    "colab": {
     "base_uri": "https://localhost:8080/",
     "height": 204
    },
    "id": "yJ3GJF4vIZaN",
    "outputId": "ffc7faa6-d6e2-484c-e4e3-6f351dee39bd"
   },
   "outputs": [
    {
     "data": {
      "text/html": [
       "<div>\n",
       "<style scoped>\n",
       "    .dataframe tbody tr th:only-of-type {\n",
       "        vertical-align: middle;\n",
       "    }\n",
       "\n",
       "    .dataframe tbody tr th {\n",
       "        vertical-align: top;\n",
       "    }\n",
       "\n",
       "    .dataframe thead th {\n",
       "        text-align: right;\n",
       "    }\n",
       "</style>\n",
       "<table border=\"1\" class=\"dataframe\">\n",
       "  <thead>\n",
       "    <tr style=\"text-align: right;\">\n",
       "      <th></th>\n",
       "      <th>No_Times_Pregnant</th>\n",
       "      <th>Plasma_Glucose</th>\n",
       "      <th>Diastolic_BP</th>\n",
       "      <th>Triceps</th>\n",
       "      <th>Insulin</th>\n",
       "      <th>BMI</th>\n",
       "      <th>Age</th>\n",
       "    </tr>\n",
       "  </thead>\n",
       "  <tbody>\n",
       "    <tr>\n",
       "      <th>0</th>\n",
       "      <td>0.058824</td>\n",
       "      <td>0.232394</td>\n",
       "      <td>0.488372</td>\n",
       "      <td>0.285714</td>\n",
       "      <td>0.096154</td>\n",
       "      <td>0.202454</td>\n",
       "      <td>0.000000</td>\n",
       "    </tr>\n",
       "    <tr>\n",
       "      <th>1</th>\n",
       "      <td>0.000000</td>\n",
       "      <td>0.570423</td>\n",
       "      <td>0.186047</td>\n",
       "      <td>0.500000</td>\n",
       "      <td>0.185096</td>\n",
       "      <td>0.509202</td>\n",
       "      <td>0.200000</td>\n",
       "    </tr>\n",
       "    <tr>\n",
       "      <th>2</th>\n",
       "      <td>0.176471</td>\n",
       "      <td>0.154930</td>\n",
       "      <td>0.302326</td>\n",
       "      <td>0.446429</td>\n",
       "      <td>0.088942</td>\n",
       "      <td>0.261759</td>\n",
       "      <td>0.083333</td>\n",
       "    </tr>\n",
       "    <tr>\n",
       "      <th>5</th>\n",
       "      <td>0.294118</td>\n",
       "      <td>0.774648</td>\n",
       "      <td>0.558140</td>\n",
       "      <td>0.214286</td>\n",
       "      <td>0.193510</td>\n",
       "      <td>0.155419</td>\n",
       "      <td>0.500000</td>\n",
       "    </tr>\n",
       "    <tr>\n",
       "      <th>6</th>\n",
       "      <td>0.000000</td>\n",
       "      <td>0.436620</td>\n",
       "      <td>0.697674</td>\n",
       "      <td>0.714286</td>\n",
       "      <td>0.259615</td>\n",
       "      <td>0.564417</td>\n",
       "      <td>0.166667</td>\n",
       "    </tr>\n",
       "  </tbody>\n",
       "</table>\n",
       "</div>"
      ],
      "text/plain": [
       "   No_Times_Pregnant  Plasma_Glucose  ...       BMI       Age\n",
       "0           0.058824        0.232394  ...  0.202454  0.000000\n",
       "1           0.000000        0.570423  ...  0.509202  0.200000\n",
       "2           0.176471        0.154930  ...  0.261759  0.083333\n",
       "5           0.294118        0.774648  ...  0.155419  0.500000\n",
       "6           0.000000        0.436620  ...  0.564417  0.166667\n",
       "\n",
       "[5 rows x 7 columns]"
      ]
     },
     "execution_count": 24,
     "metadata": {},
     "output_type": "execute_result"
    }
   ],
   "source": [
    "# Putting feature variable to X\n",
    "X = diabetes.drop(['Diabetes'], axis=1)\n",
    "X.head()"
   ]
  },
  {
   "cell_type": "code",
   "execution_count": 25,
   "metadata": {
    "colab": {
     "base_uri": "https://localhost:8080/"
    },
    "id": "jrrErq-eIhMW",
    "outputId": "80ca77a2-1357-491c-adc4-c84d1ee4922a"
   },
   "outputs": [
    {
     "data": {
      "text/plain": [
       "0    0.0\n",
       "1    1.0\n",
       "2    1.0\n",
       "5    1.0\n",
       "6    1.0\n",
       "Name: Diabetes, dtype: float64"
      ]
     },
     "execution_count": 25,
     "metadata": {},
     "output_type": "execute_result"
    }
   ],
   "source": [
    "# Putting response variable to y\n",
    "y = diabetes['Diabetes']\n",
    "y.head()"
   ]
  },
  {
   "cell_type": "code",
   "execution_count": 26,
   "metadata": {
    "id": "ZOl0hmSwIjWD"
   },
   "outputs": [],
   "source": [
    "# Splitting the data into train and test\n",
    "X_train, X_test, y_train, y_test = train_test_split(X, y, train_size=0.7, test_size=0.3, random_state=100)"
   ]
  },
  {
   "cell_type": "code",
   "execution_count": 27,
   "metadata": {
    "colab": {
     "base_uri": "https://localhost:8080/"
    },
    "id": "fNg1mduJInbP",
    "outputId": "a1817665-e689-4d78-940c-bd99477e13df"
   },
   "outputs": [
    {
     "name": "stdout",
     "output_type": "stream",
     "text": [
      "(232, 7)\n",
      "(100, 7)\n",
      "(232,)\n",
      "(100,)\n"
     ]
    }
   ],
   "source": [
    "print(X_train.shape)\n",
    "print(X_test.shape)\n",
    "print(y_train.shape)\n",
    "print(y_test.shape)"
   ]
  },
  {
   "cell_type": "code",
   "execution_count": null,
   "metadata": {
    "id": "drYqtlfrKeRF"
   },
   "outputs": [],
   "source": [
    "#!pip install keras-tuner\n"
   ]
  },
  {
   "cell_type": "code",
   "execution_count": 32,
   "metadata": {
    "id": "REsF1qJFKHj6"
   },
   "outputs": [],
   "source": [
    "import pandas as pd\n",
    "import numpy as np \n",
    "import itertools\n",
    "from sklearn import metrics\n",
    "from sklearn.metrics import confusion_matrix\n",
    "from tensorflow.keras.preprocessing.image import ImageDataGenerator, img_to_array, load_img \n",
    "from tensorflow.keras.models import Sequential\n",
    "from tensorflow.keras.layers import Conv2D,Flatten,Dropout,Dense\n",
    "from tensorflow.keras.optimizers import Adam\n",
    "from tensorflow import keras\n",
    "from tensorflow.keras import layers\n",
    "from kerastuner.tuners import RandomSearch"
   ]
  },
  {
   "cell_type": "code",
   "execution_count": 34,
   "metadata": {
    "id": "HjvCZl8_K7eA"
   },
   "outputs": [],
   "source": [
    "import tensorflow as tf\n",
    "from tensorflow import keras\n",
    "import numpy as np"
   ]
  },
  {
   "cell_type": "code",
   "execution_count": 71,
   "metadata": {
    "id": "cFXecbYXKkqp"
   },
   "outputs": [],
   "source": [
    "# initialising sequential model and adding layers to it\n",
    "model = Sequential([\n",
    "    Dense(32, activation='relu', input_shape=(7,)),\n",
    "    Dense(32, activation='relu'),\n",
    "    Dense(32, activation='leaky_relu')\n",
    "])\n",
    "model.add(Dropout(0.2))\n",
    "model.add(Dense(500, activation=\"relu\"))\n",
    "model.add(Dense(300, activation=\"relu\"))\n",
    "\n",
    "model.add(Dense(1, activation='sigmoid'))"
   ]
  },
  {
   "cell_type": "code",
   "execution_count": 72,
   "metadata": {
    "id": "YXsjQbrEK-AW"
   },
   "outputs": [],
   "source": [
    "model.compile(optimizer=\"adam\", loss=\"categorical_crossentropy\", metrics=[\"accuracy\"])"
   ]
  },
  {
   "cell_type": "code",
   "execution_count": 73,
   "metadata": {
    "colab": {
     "base_uri": "https://localhost:8080/"
    },
    "id": "jnPvIjSNLDBx",
    "outputId": "b5812aec-8db2-48b8-a5aa-d3bb91403c36"
   },
   "outputs": [
    {
     "name": "stdout",
     "output_type": "stream",
     "text": [
      "Epoch 1/100\n",
      "3/3 [==============================] - 1s 8ms/step - loss: 0.0000e+00 - accuracy: 0.6207\n",
      "Epoch 2/100\n",
      "3/3 [==============================] - 0s 8ms/step - loss: 0.0000e+00 - accuracy: 0.7112\n",
      "Epoch 3/100\n",
      "3/3 [==============================] - 0s 8ms/step - loss: 0.0000e+00 - accuracy: 0.7112\n",
      "Epoch 4/100\n",
      "3/3 [==============================] - 0s 8ms/step - loss: 0.0000e+00 - accuracy: 0.7112\n",
      "Epoch 5/100\n",
      "3/3 [==============================] - 0s 8ms/step - loss: 0.0000e+00 - accuracy: 0.7112\n",
      "Epoch 6/100\n",
      "3/3 [==============================] - 0s 8ms/step - loss: 0.0000e+00 - accuracy: 0.7112\n",
      "Epoch 7/100\n",
      "3/3 [==============================] - 0s 7ms/step - loss: 0.0000e+00 - accuracy: 0.7112\n",
      "Epoch 8/100\n",
      "3/3 [==============================] - 0s 9ms/step - loss: 0.0000e+00 - accuracy: 0.7112\n",
      "Epoch 9/100\n",
      "3/3 [==============================] - 0s 7ms/step - loss: 0.0000e+00 - accuracy: 0.7112\n",
      "Epoch 10/100\n",
      "3/3 [==============================] - 0s 8ms/step - loss: 0.0000e+00 - accuracy: 0.7112\n",
      "Epoch 11/100\n",
      "3/3 [==============================] - 0s 7ms/step - loss: 0.0000e+00 - accuracy: 0.7112\n",
      "Epoch 12/100\n",
      "3/3 [==============================] - 0s 8ms/step - loss: 0.0000e+00 - accuracy: 0.7112\n",
      "Epoch 13/100\n",
      "3/3 [==============================] - 0s 8ms/step - loss: 0.0000e+00 - accuracy: 0.7112\n",
      "Epoch 14/100\n",
      "3/3 [==============================] - 0s 7ms/step - loss: 0.0000e+00 - accuracy: 0.7112\n",
      "Epoch 15/100\n",
      "3/3 [==============================] - 0s 8ms/step - loss: 0.0000e+00 - accuracy: 0.7112\n",
      "Epoch 16/100\n",
      "3/3 [==============================] - 0s 11ms/step - loss: 0.0000e+00 - accuracy: 0.7112\n",
      "Epoch 17/100\n",
      "3/3 [==============================] - 0s 8ms/step - loss: 0.0000e+00 - accuracy: 0.7112\n",
      "Epoch 18/100\n",
      "3/3 [==============================] - 0s 7ms/step - loss: 0.0000e+00 - accuracy: 0.7112\n",
      "Epoch 19/100\n",
      "3/3 [==============================] - 0s 8ms/step - loss: 0.0000e+00 - accuracy: 0.7112\n",
      "Epoch 20/100\n",
      "3/3 [==============================] - 0s 8ms/step - loss: 0.0000e+00 - accuracy: 0.7112\n",
      "Epoch 21/100\n",
      "3/3 [==============================] - 0s 9ms/step - loss: 0.0000e+00 - accuracy: 0.7112\n",
      "Epoch 22/100\n",
      "3/3 [==============================] - 0s 8ms/step - loss: 0.0000e+00 - accuracy: 0.7112\n",
      "Epoch 23/100\n",
      "3/3 [==============================] - 0s 7ms/step - loss: 0.0000e+00 - accuracy: 0.7112\n",
      "Epoch 24/100\n",
      "3/3 [==============================] - 0s 8ms/step - loss: 0.0000e+00 - accuracy: 0.7112\n",
      "Epoch 25/100\n",
      "3/3 [==============================] - 0s 8ms/step - loss: 0.0000e+00 - accuracy: 0.7112\n",
      "Epoch 26/100\n",
      "3/3 [==============================] - 0s 8ms/step - loss: 0.0000e+00 - accuracy: 0.7112\n",
      "Epoch 27/100\n",
      "3/3 [==============================] - 0s 12ms/step - loss: 0.0000e+00 - accuracy: 0.7112\n",
      "Epoch 28/100\n",
      "3/3 [==============================] - 0s 8ms/step - loss: 0.0000e+00 - accuracy: 0.7112\n",
      "Epoch 29/100\n",
      "3/3 [==============================] - 0s 8ms/step - loss: 0.0000e+00 - accuracy: 0.7112\n",
      "Epoch 30/100\n",
      "3/3 [==============================] - 0s 9ms/step - loss: 0.0000e+00 - accuracy: 0.7112\n",
      "Epoch 31/100\n",
      "3/3 [==============================] - 0s 7ms/step - loss: 0.0000e+00 - accuracy: 0.7112\n",
      "Epoch 32/100\n",
      "3/3 [==============================] - 0s 7ms/step - loss: 0.0000e+00 - accuracy: 0.7112\n",
      "Epoch 33/100\n",
      "3/3 [==============================] - 0s 7ms/step - loss: 0.0000e+00 - accuracy: 0.7112\n",
      "Epoch 34/100\n",
      "3/3 [==============================] - 0s 8ms/step - loss: 0.0000e+00 - accuracy: 0.7112\n",
      "Epoch 35/100\n",
      "3/3 [==============================] - 0s 9ms/step - loss: 0.0000e+00 - accuracy: 0.7112\n",
      "Epoch 36/100\n",
      "3/3 [==============================] - 0s 10ms/step - loss: 0.0000e+00 - accuracy: 0.7112\n",
      "Epoch 37/100\n",
      "3/3 [==============================] - 0s 7ms/step - loss: 0.0000e+00 - accuracy: 0.7112\n",
      "Epoch 38/100\n",
      "3/3 [==============================] - 0s 7ms/step - loss: 0.0000e+00 - accuracy: 0.7112\n",
      "Epoch 39/100\n",
      "3/3 [==============================] - 0s 7ms/step - loss: 0.0000e+00 - accuracy: 0.7112\n",
      "Epoch 40/100\n",
      "3/3 [==============================] - 0s 8ms/step - loss: 0.0000e+00 - accuracy: 0.7112\n",
      "Epoch 41/100\n",
      "3/3 [==============================] - 0s 8ms/step - loss: 0.0000e+00 - accuracy: 0.7112\n",
      "Epoch 42/100\n",
      "3/3 [==============================] - 0s 8ms/step - loss: 0.0000e+00 - accuracy: 0.7112\n",
      "Epoch 43/100\n",
      "3/3 [==============================] - 0s 10ms/step - loss: 0.0000e+00 - accuracy: 0.7112\n",
      "Epoch 44/100\n",
      "3/3 [==============================] - 0s 9ms/step - loss: 0.0000e+00 - accuracy: 0.7112\n",
      "Epoch 45/100\n",
      "3/3 [==============================] - 0s 7ms/step - loss: 0.0000e+00 - accuracy: 0.7112\n",
      "Epoch 46/100\n",
      "3/3 [==============================] - 0s 10ms/step - loss: 0.0000e+00 - accuracy: 0.7112\n",
      "Epoch 47/100\n",
      "3/3 [==============================] - 0s 12ms/step - loss: 0.0000e+00 - accuracy: 0.7112\n",
      "Epoch 48/100\n",
      "3/3 [==============================] - 0s 7ms/step - loss: 0.0000e+00 - accuracy: 0.7112\n",
      "Epoch 49/100\n",
      "3/3 [==============================] - 0s 8ms/step - loss: 0.0000e+00 - accuracy: 0.7112\n",
      "Epoch 50/100\n",
      "3/3 [==============================] - 0s 7ms/step - loss: 0.0000e+00 - accuracy: 0.7112\n",
      "Epoch 51/100\n",
      "3/3 [==============================] - 0s 8ms/step - loss: 0.0000e+00 - accuracy: 0.7112\n",
      "Epoch 52/100\n",
      "3/3 [==============================] - 0s 8ms/step - loss: 0.0000e+00 - accuracy: 0.7112\n",
      "Epoch 53/100\n",
      "3/3 [==============================] - 0s 7ms/step - loss: 0.0000e+00 - accuracy: 0.7112\n",
      "Epoch 54/100\n",
      "3/3 [==============================] - 0s 7ms/step - loss: 0.0000e+00 - accuracy: 0.7112\n",
      "Epoch 55/100\n",
      "3/3 [==============================] - 0s 8ms/step - loss: 0.0000e+00 - accuracy: 0.7112\n",
      "Epoch 56/100\n",
      "3/3 [==============================] - 0s 8ms/step - loss: 0.0000e+00 - accuracy: 0.7112\n",
      "Epoch 57/100\n",
      "3/3 [==============================] - 0s 8ms/step - loss: 0.0000e+00 - accuracy: 0.7112\n",
      "Epoch 58/100\n",
      "3/3 [==============================] - 0s 7ms/step - loss: 0.0000e+00 - accuracy: 0.7112\n",
      "Epoch 59/100\n",
      "3/3 [==============================] - 0s 7ms/step - loss: 0.0000e+00 - accuracy: 0.7112\n",
      "Epoch 60/100\n",
      "3/3 [==============================] - 0s 7ms/step - loss: 0.0000e+00 - accuracy: 0.7112\n",
      "Epoch 61/100\n",
      "3/3 [==============================] - 0s 9ms/step - loss: 0.0000e+00 - accuracy: 0.7112\n",
      "Epoch 62/100\n",
      "3/3 [==============================] - 0s 10ms/step - loss: 0.0000e+00 - accuracy: 0.7112\n",
      "Epoch 63/100\n",
      "3/3 [==============================] - 0s 7ms/step - loss: 0.0000e+00 - accuracy: 0.7112\n",
      "Epoch 64/100\n",
      "3/3 [==============================] - 0s 7ms/step - loss: 0.0000e+00 - accuracy: 0.7112\n",
      "Epoch 65/100\n",
      "3/3 [==============================] - 0s 12ms/step - loss: 0.0000e+00 - accuracy: 0.7112\n",
      "Epoch 66/100\n",
      "3/3 [==============================] - 0s 8ms/step - loss: 0.0000e+00 - accuracy: 0.7112\n",
      "Epoch 67/100\n",
      "3/3 [==============================] - 0s 9ms/step - loss: 0.0000e+00 - accuracy: 0.7112\n",
      "Epoch 68/100\n",
      "3/3 [==============================] - 0s 8ms/step - loss: 0.0000e+00 - accuracy: 0.7112\n",
      "Epoch 69/100\n",
      "3/3 [==============================] - 0s 9ms/step - loss: 0.0000e+00 - accuracy: 0.7112\n",
      "Epoch 70/100\n",
      "3/3 [==============================] - 0s 9ms/step - loss: 0.0000e+00 - accuracy: 0.7112\n",
      "Epoch 71/100\n",
      "3/3 [==============================] - 0s 8ms/step - loss: 0.0000e+00 - accuracy: 0.7112\n",
      "Epoch 72/100\n",
      "3/3 [==============================] - 0s 8ms/step - loss: 0.0000e+00 - accuracy: 0.7112\n",
      "Epoch 73/100\n",
      "3/3 [==============================] - 0s 8ms/step - loss: 0.0000e+00 - accuracy: 0.7112\n",
      "Epoch 74/100\n",
      "3/3 [==============================] - 0s 8ms/step - loss: 0.0000e+00 - accuracy: 0.7112\n",
      "Epoch 75/100\n",
      "3/3 [==============================] - 0s 8ms/step - loss: 0.0000e+00 - accuracy: 0.7112\n",
      "Epoch 76/100\n",
      "3/3 [==============================] - 0s 11ms/step - loss: 0.0000e+00 - accuracy: 0.7112\n",
      "Epoch 77/100\n",
      "3/3 [==============================] - 0s 8ms/step - loss: 0.0000e+00 - accuracy: 0.7112\n",
      "Epoch 78/100\n",
      "3/3 [==============================] - 0s 10ms/step - loss: 0.0000e+00 - accuracy: 0.7112\n",
      "Epoch 79/100\n",
      "3/3 [==============================] - 0s 9ms/step - loss: 0.0000e+00 - accuracy: 0.7112\n",
      "Epoch 80/100\n",
      "3/3 [==============================] - 0s 8ms/step - loss: 0.0000e+00 - accuracy: 0.7112\n",
      "Epoch 81/100\n",
      "3/3 [==============================] - 0s 10ms/step - loss: 0.0000e+00 - accuracy: 0.7112\n",
      "Epoch 82/100\n",
      "3/3 [==============================] - 0s 8ms/step - loss: 0.0000e+00 - accuracy: 0.7112\n",
      "Epoch 83/100\n",
      "3/3 [==============================] - 0s 8ms/step - loss: 0.0000e+00 - accuracy: 0.7112\n",
      "Epoch 84/100\n",
      "3/3 [==============================] - 0s 8ms/step - loss: 0.0000e+00 - accuracy: 0.7112\n",
      "Epoch 85/100\n",
      "3/3 [==============================] - 0s 9ms/step - loss: 0.0000e+00 - accuracy: 0.7112\n",
      "Epoch 86/100\n",
      "3/3 [==============================] - 0s 8ms/step - loss: 0.0000e+00 - accuracy: 0.7112\n",
      "Epoch 87/100\n",
      "3/3 [==============================] - 0s 10ms/step - loss: 0.0000e+00 - accuracy: 0.7112\n",
      "Epoch 88/100\n",
      "3/3 [==============================] - 0s 7ms/step - loss: 0.0000e+00 - accuracy: 0.7112\n",
      "Epoch 89/100\n",
      "3/3 [==============================] - 0s 8ms/step - loss: 0.0000e+00 - accuracy: 0.7112\n",
      "Epoch 90/100\n",
      "3/3 [==============================] - 0s 8ms/step - loss: 0.0000e+00 - accuracy: 0.7112\n",
      "Epoch 91/100\n",
      "3/3 [==============================] - 0s 8ms/step - loss: 0.0000e+00 - accuracy: 0.7112\n",
      "Epoch 92/100\n",
      "3/3 [==============================] - 0s 9ms/step - loss: 0.0000e+00 - accuracy: 0.7112\n",
      "Epoch 93/100\n",
      "3/3 [==============================] - 0s 9ms/step - loss: 0.0000e+00 - accuracy: 0.7112\n",
      "Epoch 94/100\n",
      "3/3 [==============================] - 0s 11ms/step - loss: 0.0000e+00 - accuracy: 0.7112\n",
      "Epoch 95/100\n",
      "3/3 [==============================] - 0s 9ms/step - loss: 0.0000e+00 - accuracy: 0.7112\n",
      "Epoch 96/100\n",
      "3/3 [==============================] - 0s 10ms/step - loss: 0.0000e+00 - accuracy: 0.7112\n",
      "Epoch 97/100\n",
      "3/3 [==============================] - 0s 8ms/step - loss: 0.0000e+00 - accuracy: 0.7112\n",
      "Epoch 98/100\n",
      "3/3 [==============================] - 0s 11ms/step - loss: 0.0000e+00 - accuracy: 0.7112\n",
      "Epoch 99/100\n",
      "3/3 [==============================] - 0s 8ms/step - loss: 0.0000e+00 - accuracy: 0.7112\n",
      "Epoch 100/100\n",
      "3/3 [==============================] - 0s 8ms/step - loss: 0.0000e+00 - accuracy: 0.7112\n"
     ]
    },
    {
     "data": {
      "text/plain": [
       "<keras.callbacks.History at 0x7f651c1abcd0>"
      ]
     },
     "execution_count": 73,
     "metadata": {},
     "output_type": "execute_result"
    }
   ],
   "source": [
    "model.fit(X_train, y_train, epochs=100, batch_size=100, verbose=1)"
   ]
  },
  {
   "cell_type": "code",
   "execution_count": 74,
   "metadata": {
    "colab": {
     "base_uri": "https://localhost:8080/"
    },
    "id": "KqYQvddxLJ0D",
    "outputId": "1ebf090c-630b-49c6-9003-0a7dac56fc97"
   },
   "outputs": [
    {
     "name": "stdout",
     "output_type": "stream",
     "text": [
      "4/4 [==============================] - 0s 4ms/step - loss: 0.0000e+00 - accuracy: 0.7400\n",
      "[0.0, 0.7400000095367432]\n"
     ]
    }
   ],
   "source": [
    "accuracy = model.evaluate(X_test, y_test)\n",
    "print(accuracy)"
   ]
  },
  {
   "cell_type": "code",
   "execution_count": 77,
   "metadata": {
    "id": "5btHY78ZULHl"
   },
   "outputs": [],
   "source": [
    "y_pred = model.predict(X_test)"
   ]
  },
  {
   "cell_type": "code",
   "execution_count": 75,
   "metadata": {
    "id": "26BaLnGvTixy"
   },
   "outputs": [],
   "source": [
    " from sklearn.metrics import classification_report"
   ]
  },
  {
   "cell_type": "code",
   "execution_count": 81,
   "metadata": {
    "colab": {
     "base_uri": "https://localhost:8080/"
    },
    "id": "wMuT9dRMUGJB",
    "outputId": "d2047eb3-91f2-44fd-e1c8-9f2bc7abc60e"
   },
   "outputs": [
    {
     "name": "stdout",
     "output_type": "stream",
     "text": [
      "              precision    recall  f1-score   support\n",
      "\n",
      "         0.0       0.74      1.00      0.85        74\n",
      "         1.0       0.00      0.00      0.00        26\n",
      "\n",
      "    accuracy                           0.74       100\n",
      "   macro avg       0.37      0.50      0.43       100\n",
      "weighted avg       0.55      0.74      0.63       100\n",
      "\n"
     ]
    }
   ],
   "source": [
    "print(classification_report(y_test, y_pred))"
   ]
  },
  {
   "cell_type": "code",
   "execution_count": null,
   "metadata": {
    "id": "mdxHqv41UZf7"
   },
   "outputs": [],
   "source": []
  }
 ],
 "metadata": {
  "colab": {
   "collapsed_sections": [],
   "name": "Pima_Diabetes_Dataset.ipynb",
   "provenance": []
  },
  "kernelspec": {
   "display_name": "Python 3",
   "language": "python",
   "name": "python3"
  },
  "language_info": {
   "codemirror_mode": {
    "name": "ipython",
    "version": 3
   },
   "file_extension": ".py",
   "mimetype": "text/x-python",
   "name": "python",
   "nbconvert_exporter": "python",
   "pygments_lexer": "ipython3",
   "version": "3.8.8"
  }
 },
 "nbformat": 4,
 "nbformat_minor": 1
}
